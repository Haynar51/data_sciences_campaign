{
 "cells": [
  {
   "cell_type": "markdown",
   "metadata": {},
   "source": [
    "# Built-in Data Strucures. Functions.\n",
    "#data Structures and Sequences\n",
    "#Tuple"
   ]
  },
  {
   "cell_type": "code",
   "execution_count": 1,
   "metadata": {},
   "outputs": [
    {
     "data": {
      "text/plain": [
       "(4, 5, 6)"
      ]
     },
     "execution_count": 1,
     "metadata": {},
     "output_type": "execute_result"
    }
   ],
   "source": [
    "tup= 4,5,6\n",
    "tup"
   ]
  },
  {
   "cell_type": "code",
   "execution_count": 2,
   "metadata": {},
   "outputs": [],
   "source": [
    "nested_tup=(4,5,6),(7,8)"
   ]
  },
  {
   "cell_type": "code",
   "execution_count": 3,
   "metadata": {},
   "outputs": [
    {
     "data": {
      "text/plain": [
       "((4, 5, 6), (7, 8))"
      ]
     },
     "execution_count": 3,
     "metadata": {},
     "output_type": "execute_result"
    }
   ],
   "source": [
    "nested_tup"
   ]
  },
  {
   "cell_type": "code",
   "execution_count": 4,
   "metadata": {},
   "outputs": [
    {
     "data": {
      "text/plain": [
       "(4, 0, 2)"
      ]
     },
     "execution_count": 4,
     "metadata": {},
     "output_type": "execute_result"
    }
   ],
   "source": [
    "tuple([4,0,2])"
   ]
  },
  {
   "cell_type": "code",
   "execution_count": 5,
   "metadata": {},
   "outputs": [],
   "source": [
    "tup=tuple('string')"
   ]
  },
  {
   "cell_type": "code",
   "execution_count": 6,
   "metadata": {},
   "outputs": [
    {
     "data": {
      "text/plain": [
       "('s', 't', 'r', 'i', 'n', 'g')"
      ]
     },
     "execution_count": 6,
     "metadata": {},
     "output_type": "execute_result"
    }
   ],
   "source": [
    "tup"
   ]
  },
  {
   "cell_type": "code",
   "execution_count": 7,
   "metadata": {},
   "outputs": [
    {
     "data": {
      "text/plain": [
       "'s'"
      ]
     },
     "execution_count": 7,
     "metadata": {},
     "output_type": "execute_result"
    }
   ],
   "source": [
    "tup[0]"
   ]
  },
  {
   "cell_type": "code",
   "execution_count": 8,
   "metadata": {},
   "outputs": [],
   "source": [
    "tup=tuple(['foo',[1,2],True])"
   ]
  },
  {
   "cell_type": "code",
   "execution_count": 9,
   "metadata": {},
   "outputs": [
    {
     "data": {
      "text/plain": [
       "('foo', [1, 2], True)"
      ]
     },
     "execution_count": 9,
     "metadata": {},
     "output_type": "execute_result"
    }
   ],
   "source": [
    "tup"
   ]
  },
  {
   "cell_type": "code",
   "execution_count": 10,
   "metadata": {},
   "outputs": [],
   "source": [
    "tup[1].append(3)"
   ]
  },
  {
   "cell_type": "code",
   "execution_count": 11,
   "metadata": {},
   "outputs": [
    {
     "data": {
      "text/plain": [
       "('foo', [1, 2, 3], True)"
      ]
     },
     "execution_count": 11,
     "metadata": {},
     "output_type": "execute_result"
    }
   ],
   "source": [
    "tup"
   ]
  },
  {
   "cell_type": "code",
   "execution_count": 13,
   "metadata": {},
   "outputs": [
    {
     "data": {
      "text/plain": [
       "(4, None, 'foo', 6, 0, 'bar')"
      ]
     },
     "execution_count": 13,
     "metadata": {},
     "output_type": "execute_result"
    }
   ],
   "source": [
    "(4,None,'foo')+(6,0)+('bar',)"
   ]
  },
  {
   "cell_type": "code",
   "execution_count": 14,
   "metadata": {},
   "outputs": [
    {
     "data": {
      "text/plain": [
       "('foo', 'bar', 'foo', 'bar', 'foo', 'bar', 'foo', 'bar')"
      ]
     },
     "execution_count": 14,
     "metadata": {},
     "output_type": "execute_result"
    }
   ],
   "source": [
    "('foo','bar')*4"
   ]
  },
  {
   "cell_type": "code",
   "execution_count": 15,
   "metadata": {},
   "outputs": [],
   "source": [
    "tup=(4,5,6)"
   ]
  },
  {
   "cell_type": "code",
   "execution_count": 16,
   "metadata": {},
   "outputs": [],
   "source": [
    "a,b,c=tup"
   ]
  },
  {
   "cell_type": "code",
   "execution_count": 17,
   "metadata": {},
   "outputs": [
    {
     "data": {
      "text/plain": [
       "5"
      ]
     },
     "execution_count": 17,
     "metadata": {},
     "output_type": "execute_result"
    }
   ],
   "source": [
    "b"
   ]
  },
  {
   "cell_type": "code",
   "execution_count": 19,
   "metadata": {},
   "outputs": [],
   "source": [
    "tup=4,5,(6,7)\n",
    "a,b,(c,d)=tup"
   ]
  },
  {
   "cell_type": "code",
   "execution_count": 20,
   "metadata": {},
   "outputs": [
    {
     "data": {
      "text/plain": [
       "7"
      ]
     },
     "execution_count": 20,
     "metadata": {},
     "output_type": "execute_result"
    }
   ],
   "source": [
    "d"
   ]
  },
  {
   "cell_type": "code",
   "execution_count": 23,
   "metadata": {},
   "outputs": [],
   "source": [
    "values=1,2,3,4,5\n",
    "a,b,*_=values"
   ]
  },
  {
   "cell_type": "markdown",
   "metadata": {},
   "source": [
    "# List"
   ]
  },
  {
   "cell_type": "code",
   "execution_count": 26,
   "metadata": {},
   "outputs": [],
   "source": [
    "a=[4,2,3,6,5,78]"
   ]
  },
  {
   "cell_type": "code",
   "execution_count": 28,
   "metadata": {},
   "outputs": [],
   "source": [
    "a.sort()"
   ]
  },
  {
   "cell_type": "code",
   "execution_count": 29,
   "metadata": {},
   "outputs": [
    {
     "data": {
      "text/plain": [
       "[2, 3, 4, 5, 6, 78]"
      ]
     },
     "execution_count": 29,
     "metadata": {},
     "output_type": "execute_result"
    }
   ],
   "source": [
    "a"
   ]
  },
  {
   "cell_type": "code",
   "execution_count": 32,
   "metadata": {},
   "outputs": [],
   "source": [
    "a.append(1     )"
   ]
  },
  {
   "cell_type": "code",
   "execution_count": 33,
   "metadata": {},
   "outputs": [],
   "source": [
    "a.insert(2,30)"
   ]
  },
  {
   "cell_type": "code",
   "execution_count": 34,
   "metadata": {},
   "outputs": [
    {
     "data": {
      "text/plain": [
       "[2, 3, 30, 4, 5, 6, 78, 1]"
      ]
     },
     "execution_count": 34,
     "metadata": {},
     "output_type": "execute_result"
    }
   ],
   "source": [
    "a"
   ]
  },
  {
   "cell_type": "code",
   "execution_count": 35,
   "metadata": {},
   "outputs": [],
   "source": [
    "import bisect"
   ]
  },
  {
   "cell_type": "code",
   "execution_count": 36,
   "metadata": {},
   "outputs": [],
   "source": [
    "c=[1,2,3,5,3,3,4,7]"
   ]
  },
  {
   "cell_type": "code",
   "execution_count": 37,
   "metadata": {},
   "outputs": [
    {
     "data": {
      "text/plain": [
       "2"
      ]
     },
     "execution_count": 37,
     "metadata": {},
     "output_type": "execute_result"
    }
   ],
   "source": [
    "bisect.bisect(c,2)"
   ]
  },
  {
   "cell_type": "code",
   "execution_count": 38,
   "metadata": {},
   "outputs": [],
   "source": [
    "bisect.insort(c,6)"
   ]
  },
  {
   "cell_type": "code",
   "execution_count": 39,
   "metadata": {},
   "outputs": [
    {
     "data": {
      "text/plain": [
       "[1, 2, 3, 5, 3, 3, 4, 6, 7]"
      ]
     },
     "execution_count": 39,
     "metadata": {},
     "output_type": "execute_result"
    }
   ],
   "source": [
    "c"
   ]
  },
  {
   "cell_type": "code",
   "execution_count": 40,
   "metadata": {},
   "outputs": [
    {
     "data": {
      "text/plain": [
       "[1, 2, 3]"
      ]
     },
     "execution_count": 40,
     "metadata": {},
     "output_type": "execute_result"
    }
   ],
   "source": [
    "c[:3]"
   ]
  },
  {
   "cell_type": "code",
   "execution_count": 41,
   "metadata": {},
   "outputs": [],
   "source": [
    "some_list=['foo','bar','baz']"
   ]
  },
  {
   "cell_type": "code",
   "execution_count": 42,
   "metadata": {},
   "outputs": [],
   "source": [
    "mapping={}"
   ]
  },
  {
   "cell_type": "code",
   "execution_count": 43,
   "metadata": {},
   "outputs": [
    {
     "data": {
      "text/plain": [
       "{'bar': 1, 'baz': 2, 'foo': 0}"
      ]
     },
     "execution_count": 43,
     "metadata": {},
     "output_type": "execute_result"
    }
   ],
   "source": [
    "for i ,v in enumerate(some_list):\n",
    "    mapping[v]=i\n",
    "mapping"
   ]
  },
  {
   "cell_type": "markdown",
   "metadata": {},
   "source": [
    "# Returning Multiple Values\n"
   ]
  },
  {
   "cell_type": "code",
   "execution_count": 44,
   "metadata": {},
   "outputs": [],
   "source": [
    "def f():\n",
    "    a=5\n",
    "    b=6\n",
    "    c=7\n",
    "    return a,b,c\n",
    "a,b,c=f()"
   ]
  },
  {
   "cell_type": "code",
   "execution_count": 45,
   "metadata": {},
   "outputs": [
    {
     "data": {
      "text/plain": [
       "(5, 6, 'baz')"
      ]
     },
     "execution_count": 45,
     "metadata": {},
     "output_type": "execute_result"
    }
   ],
   "source": [
    "a,b,v"
   ]
  },
  {
   "cell_type": "code",
   "execution_count": 46,
   "metadata": {},
   "outputs": [
    {
     "data": {
      "text/plain": [
       "(5, 6, 7)"
      ]
     },
     "execution_count": 46,
     "metadata": {},
     "output_type": "execute_result"
    }
   ],
   "source": [
    "a,b,c"
   ]
  },
  {
   "cell_type": "code",
   "execution_count": 47,
   "metadata": {},
   "outputs": [],
   "source": [
    "return_value=f()"
   ]
  },
  {
   "cell_type": "code",
   "execution_count": 48,
   "metadata": {},
   "outputs": [
    {
     "data": {
      "text/plain": [
       "(5, 6, 7)"
      ]
     },
     "execution_count": 48,
     "metadata": {},
     "output_type": "execute_result"
    }
   ],
   "source": [
    "return_value"
   ]
  },
  {
   "cell_type": "code",
   "execution_count": 49,
   "metadata": {},
   "outputs": [],
   "source": [
    "def f():\n",
    "    a=5\n",
    "    b=6\n",
    "    c=7\n",
    "    return{'a':a,'b':b,'c':c}"
   ]
  },
  {
   "cell_type": "code",
   "execution_count": 50,
   "metadata": {},
   "outputs": [],
   "source": [
    "return_value=f()"
   ]
  },
  {
   "cell_type": "code",
   "execution_count": 51,
   "metadata": {},
   "outputs": [
    {
     "data": {
      "text/plain": [
       "{'a': 5, 'b': 6, 'c': 7}"
      ]
     },
     "execution_count": 51,
     "metadata": {},
     "output_type": "execute_result"
    }
   ],
   "source": [
    "return_value\n"
   ]
  },
  {
   "cell_type": "markdown",
   "metadata": {},
   "source": [
    "# functions are objects"
   ]
  },
  {
   "cell_type": "code",
   "execution_count": 52,
   "metadata": {},
   "outputs": [],
   "source": [
    "states=['Alabama','Georgia!','Georgia','gerorgia','FlorIda','south carolina##','vest virginia?']"
   ]
  },
  {
   "cell_type": "code",
   "execution_count": 54,
   "metadata": {},
   "outputs": [],
   "source": [
    "import re\n",
    "def cleanStrings(strings):\n",
    "    result=[]\n",
    "    for value in strings:\n",
    "        value=value.strip()\n",
    "        value=re.sub('[!#?]','',value)\n",
    "        value=value.title()\n",
    "        result.append(value)\n",
    "    return result"
   ]
  },
  {
   "cell_type": "code",
   "execution_count": 56,
   "metadata": {},
   "outputs": [
    {
     "data": {
      "text/plain": [
       "['Alabama',\n",
       " 'Georgia',\n",
       " 'Georgia',\n",
       " 'Gerorgia',\n",
       " 'Florida',\n",
       " 'South Carolina',\n",
       " 'Vest Virginia']"
      ]
     },
     "execution_count": 56,
     "metadata": {},
     "output_type": "execute_result"
    }
   ],
   "source": [
    "cleanStrings(states)"
   ]
  },
  {
   "cell_type": "code",
   "execution_count": 57,
   "metadata": {},
   "outputs": [],
   "source": [
    "def remove_punctuation(value):\n",
    "    return re.sub('[!#?]','',value)\n",
    "\n",
    "clean_ops=[str.strip,remove_punctuation,str.title]\n",
    "\n",
    "def clean_strings(strings ,ops):\n",
    "    result=[]\n",
    "    for value in strings:\n",
    "        for function in ops:\n",
    "            value=function(value)\n",
    "        result.append(value)\n",
    "    return result\n"
   ]
  },
  {
   "cell_type": "code",
   "execution_count": 58,
   "metadata": {},
   "outputs": [
    {
     "data": {
      "text/plain": [
       "['Alabama',\n",
       " 'Georgia',\n",
       " 'Georgia',\n",
       " 'Gerorgia',\n",
       " 'Florida',\n",
       " 'South Carolina',\n",
       " 'Vest Virginia']"
      ]
     },
     "execution_count": 58,
     "metadata": {},
     "output_type": "execute_result"
    }
   ],
   "source": [
    "clean_strings(states,clean_ops)\n"
   ]
  },
  {
   "cell_type": "code",
   "execution_count": 59,
   "metadata": {},
   "outputs": [
    {
     "name": "stdout",
     "output_type": "stream",
     "text": [
      "Alabama\n",
      "Georgia\n",
      "Georgia\n",
      "gerorgia\n",
      "FlorIda\n",
      "south carolina\n",
      "vest virginia\n"
     ]
    }
   ],
   "source": [
    "for x in map(remove_punctuation,states):\n",
    "    print(x)"
   ]
  },
  {
   "cell_type": "markdown",
   "metadata": {},
   "source": [
    "### map()  会根据提供的函数对指定序列做映射。\n",
    "\n",
    "###第一个参数 function 以参数序列中的每一个元素调用 function 函数，返回包含每次 function 函数返回值的新列表。\n",
    "map(function ,iterable,....)"
   ]
  },
  {
   "cell_type": "markdown",
   "metadata": {},
   "source": [
    "## Anonymous(Lambda) Functions"
   ]
  },
  {
   "cell_type": "code",
   "execution_count": 60,
   "metadata": {},
   "outputs": [],
   "source": [
    "def shor_function(x):\n",
    "    return x*2\n",
    "equiv_anon=lambda x:x*2"
   ]
  },
  {
   "cell_type": "code",
   "execution_count": 61,
   "metadata": {},
   "outputs": [],
   "source": [
    "a=equiv_anon(2)"
   ]
  },
  {
   "cell_type": "code",
   "execution_count": 62,
   "metadata": {},
   "outputs": [
    {
     "data": {
      "text/plain": [
       "4"
      ]
     },
     "execution_count": 62,
     "metadata": {},
     "output_type": "execute_result"
    }
   ],
   "source": [
    "a"
   ]
  },
  {
   "cell_type": "code",
   "execution_count": 63,
   "metadata": {},
   "outputs": [
    {
     "data": {
      "text/plain": [
       "10"
      ]
     },
     "execution_count": 63,
     "metadata": {},
     "output_type": "execute_result"
    }
   ],
   "source": [
    "equiv_anon(5)"
   ]
  },
  {
   "cell_type": "code",
   "execution_count": 64,
   "metadata": {},
   "outputs": [],
   "source": [
    "strings=['foo','card','bar','aaa','abab']"
   ]
  },
  {
   "cell_type": "code",
   "execution_count": 65,
   "metadata": {},
   "outputs": [],
   "source": [
    "strings.sort(key=lambda x: len(set(list(x))))\n"
   ]
  },
  {
   "cell_type": "code",
   "execution_count": 66,
   "metadata": {},
   "outputs": [
    {
     "data": {
      "text/plain": [
       "['aaa', 'foo', 'abab', 'bar', 'card']"
      ]
     },
     "execution_count": 66,
     "metadata": {},
     "output_type": "execute_result"
    }
   ],
   "source": [
    "strings"
   ]
  },
  {
   "cell_type": "markdown",
   "metadata": {},
   "source": [
    "## generators"
   ]
  },
  {
   "cell_type": "code",
   "execution_count": 68,
   "metadata": {},
   "outputs": [
    {
     "name": "stdout",
     "output_type": "stream",
     "text": [
      "a\n",
      "b\n",
      "c\n"
     ]
    }
   ],
   "source": [
    "some_dict={'a':1,'b':2,'c':3}\n",
    "for key in some_dict:\n",
    "    print(key)"
   ]
  },
  {
   "cell_type": "code",
   "execution_count": 69,
   "metadata": {},
   "outputs": [],
   "source": [
    "dict_iterator=iter(some_dict)"
   ]
  },
  {
   "cell_type": "code",
   "execution_count": 70,
   "metadata": {},
   "outputs": [
    {
     "data": {
      "text/plain": [
       "<dict_keyiterator at 0x7156868>"
      ]
     },
     "execution_count": 70,
     "metadata": {},
     "output_type": "execute_result"
    }
   ],
   "source": [
    "dict_iterator"
   ]
  },
  {
   "cell_type": "code",
   "execution_count": 71,
   "metadata": {},
   "outputs": [
    {
     "data": {
      "text/plain": [
       "['a', 'b', 'c']"
      ]
     },
     "execution_count": 71,
     "metadata": {},
     "output_type": "execute_result"
    }
   ],
   "source": [
    "list(dict_iterator)"
   ]
  },
  {
   "cell_type": "markdown",
   "metadata": {},
   "source": [
    "###  python 的 functools 模块提供了很多有用的功能，其中一个就是偏函数patial function;其作用是，把一个函数的某些参数（不管有没有默认值  给固定住（即给默认值），返回一个 新的函数，调用这个新函数会更简单。最后，创建偏函数时，要从右到左固定参数，； 例如："
   ]
  },
  {
   "cell_type": "code",
   "execution_count": 72,
   "metadata": {},
   "outputs": [
    {
     "data": {
      "text/plain": [
       "15"
      ]
     },
     "execution_count": 72,
     "metadata": {},
     "output_type": "execute_result"
    }
   ],
   "source": [
    "def add_numbers(x,y):\n",
    "    return x+y\n",
    "add_five=lambda y:add_numbers(5,y)\n",
    "add_five(10)"
   ]
  },
  {
   "cell_type": "code",
   "execution_count": 73,
   "metadata": {},
   "outputs": [],
   "source": [
    "from functools import partial\n",
    "add_five=partial(add_numbers,5)"
   ]
  },
  {
   "cell_type": "code",
   "execution_count": 74,
   "metadata": {},
   "outputs": [
    {
     "data": {
      "text/plain": [
       "15"
      ]
     },
     "execution_count": 74,
     "metadata": {},
     "output_type": "execute_result"
    }
   ],
   "source": [
    "add_five(10)"
   ]
  },
  {
   "cell_type": "code",
   "execution_count": 76,
   "metadata": {},
   "outputs": [],
   "source": [
    "def squares(n=10):\n",
    "    print ('generating squares from 1 to {0}'.format(n **2))\n",
    "    for i in range(1,n+1):\n",
    "        yield i **2"
   ]
  },
  {
   "cell_type": "code",
   "execution_count": 77,
   "metadata": {},
   "outputs": [
    {
     "data": {
      "text/plain": [
       "<generator object squares at 0x00000000058B16D0>"
      ]
     },
     "execution_count": 77,
     "metadata": {},
     "output_type": "execute_result"
    }
   ],
   "source": [
    "gen=squares()\n",
    "gen"
   ]
  },
  {
   "cell_type": "code",
   "execution_count": 81,
   "metadata": {},
   "outputs": [],
   "source": [
    "for x in gen:\n",
    "    print(x,end='')"
   ]
  },
  {
   "cell_type": "code",
   "execution_count": 82,
   "metadata": {},
   "outputs": [],
   "source": [
    "for x in gen:\n",
    "    print(x,end= ' ')"
   ]
  },
  {
   "cell_type": "markdown",
   "metadata": {},
   "source": [
    "### Generator expressions"
   ]
  },
  {
   "cell_type": "code",
   "execution_count": 87,
   "metadata": {},
   "outputs": [],
   "source": [
    "p= (x **2 for x in range(100))"
   ]
  },
  {
   "cell_type": "code",
   "execution_count": 84,
   "metadata": {},
   "outputs": [
    {
     "data": {
      "text/plain": [
       "<generator object <genexpr> at 0x00000000058A53B8>"
      ]
     },
     "execution_count": 84,
     "metadata": {},
     "output_type": "execute_result"
    }
   ],
   "source": [
    "gen"
   ]
  },
  {
   "cell_type": "code",
   "execution_count": 88,
   "metadata": {},
   "outputs": [
    {
     "name": "stdout",
     "output_type": "stream",
     "text": [
      "0,1,4,9,16,25,36,49,64,81,100,121,144,169,196,225,256,289,324,361,400,441,484,529,576,625,676,729,784,841,900,961,1024,1089,1156,1225,1296,1369,1444,1521,1600,1681,1764,1849,1936,2025,2116,2209,2304,2401,2500,2601,2704,2809,2916,3025,3136,3249,3364,3481,3600,3721,3844,3969,4096,4225,4356,4489,4624,4761,4900,5041,5184,5329,5476,5625,5776,5929,6084,6241,6400,6561,6724,6889,7056,7225,7396,7569,7744,7921,8100,8281,8464,8649,8836,9025,9216,9409,9604,9801,"
     ]
    }
   ],
   "source": [
    "for i in p:\n",
    "    print (i, end=',')"
   ]
  },
  {
   "cell_type": "code",
   "execution_count": 90,
   "metadata": {},
   "outputs": [
    {
     "data": {
      "text/plain": [
       "328350"
      ]
     },
     "execution_count": 90,
     "metadata": {},
     "output_type": "execute_result"
    }
   ],
   "source": [
    "sum(x**2 for x in range(100))"
   ]
  },
  {
   "cell_type": "code",
   "execution_count": 92,
   "metadata": {},
   "outputs": [
    {
     "data": {
      "text/plain": [
       "{0: 0, 1: 1, 2: 4, 3: 9, 4: 16}"
      ]
     },
     "execution_count": 92,
     "metadata": {},
     "output_type": "execute_result"
    }
   ],
   "source": [
    "dict((i,i**2) for i in range(5))"
   ]
  },
  {
   "cell_type": "markdown",
   "metadata": {},
   "source": [
    "### itertools module"
   ]
  },
  {
   "cell_type": "code",
   "execution_count": 94,
   "metadata": {},
   "outputs": [
    {
     "name": "stdout",
     "output_type": "stream",
     "text": [
      "A ['Alan', 'Add']\n",
      "W ['Wsd', 'Will']\n",
      "A ['Albert']\n"
     ]
    }
   ],
   "source": [
    "import itertools\n",
    "first_letter=lambda x:x[0]\n",
    "names=['Alan','Add','Wsd','Will','Albert']\n",
    "for letter,names in itertools.groupby(names,first_letter):\n",
    "    print(letter,list(names))"
   ]
  },
  {
   "cell_type": "code",
   "execution_count": 97,
   "metadata": {},
   "outputs": [
    {
     "name": "stdout",
     "output_type": "stream",
     "text": [
      "A ['Alan', 'Add']\n",
      "W ['Wsd', 'Will']\n",
      "A ['Albert']\n"
     ]
    }
   ],
   "source": [
    "import itertools\n",
    "names=['Alan','Add','Wsd','Will','Albert']\n",
    "for letter,names in itertools.groupby(names,lambda x:x[0]):\n",
    "    print(letter,list(names))"
   ]
  },
  {
   "cell_type": "markdown",
   "metadata": {},
   "source": [
    "### Errors and Exception Handling"
   ]
  },
  {
   "cell_type": "code",
   "execution_count": 98,
   "metadata": {},
   "outputs": [
    {
     "data": {
      "text/plain": [
       "1.23415"
      ]
     },
     "execution_count": 98,
     "metadata": {},
     "output_type": "execute_result"
    }
   ],
   "source": [
    "float('1.23415')"
   ]
  },
  {
   "cell_type": "code",
   "execution_count": 100,
   "metadata": {},
   "outputs": [
    {
     "ename": "ValueError",
     "evalue": "could not convert string to float: 'something'",
     "output_type": "error",
     "traceback": [
      "\u001b[1;31m---------------------------------------------------------------------------\u001b[0m",
      "\u001b[1;31mValueError\u001b[0m                                Traceback (most recent call last)",
      "\u001b[1;32m<ipython-input-100-2649e4ade0e6>\u001b[0m in \u001b[0;36m<module>\u001b[1;34m()\u001b[0m\n\u001b[1;32m----> 1\u001b[1;33m \u001b[0mfloat\u001b[0m\u001b[1;33m(\u001b[0m\u001b[1;34m'something'\u001b[0m\u001b[1;33m)\u001b[0m\u001b[1;33m\u001b[0m\u001b[0m\n\u001b[0m",
      "\u001b[1;31mValueError\u001b[0m: could not convert string to float: 'something'"
     ]
    }
   ],
   "source": [
    "float('something')"
   ]
  },
  {
   "cell_type": "code",
   "execution_count": 101,
   "metadata": {},
   "outputs": [],
   "source": [
    "def attempt_float(x):\n",
    "    try:\n",
    "        return float(x)\n",
    "    except:\n",
    "        return x"
   ]
  },
  {
   "cell_type": "code",
   "execution_count": 102,
   "metadata": {},
   "outputs": [
    {
     "data": {
      "text/plain": [
       "'some'"
      ]
     },
     "execution_count": 102,
     "metadata": {},
     "output_type": "execute_result"
    }
   ],
   "source": [
    "attempt_float(\"some\")"
   ]
  },
  {
   "cell_type": "code",
   "execution_count": 103,
   "metadata": {},
   "outputs": [
    {
     "ename": "TypeError",
     "evalue": "float() argument must be a string or a number, not 'tuple'",
     "output_type": "error",
     "traceback": [
      "\u001b[1;31m---------------------------------------------------------------------------\u001b[0m",
      "\u001b[1;31mTypeError\u001b[0m                                 Traceback (most recent call last)",
      "\u001b[1;32m<ipython-input-103-a101b3a3d6cd>\u001b[0m in \u001b[0;36m<module>\u001b[1;34m()\u001b[0m\n\u001b[1;32m----> 1\u001b[1;33m \u001b[0mfloat\u001b[0m\u001b[1;33m(\u001b[0m\u001b[1;33m(\u001b[0m\u001b[1;36m1\u001b[0m\u001b[1;33m,\u001b[0m\u001b[1;36m2\u001b[0m\u001b[1;33m)\u001b[0m\u001b[1;33m)\u001b[0m\u001b[1;33m\u001b[0m\u001b[0m\n\u001b[0m",
      "\u001b[1;31mTypeError\u001b[0m: float() argument must be a string or a number, not 'tuple'"
     ]
    }
   ],
   "source": [
    "float((1,2))"
   ]
  },
  {
   "cell_type": "code",
   "execution_count": 104,
   "metadata": {},
   "outputs": [],
   "source": [
    "def attempt_float(x):\n",
    "    try:\n",
    "        return float(x)\n",
    "    except (TypeError,ValueError):\n",
    "        return x"
   ]
  },
  {
   "cell_type": "code",
   "execution_count": 105,
   "metadata": {},
   "outputs": [
    {
     "data": {
      "text/plain": [
       "'done some'"
      ]
     },
     "execution_count": 105,
     "metadata": {},
     "output_type": "execute_result"
    }
   ],
   "source": [
    "attempt_float('done some')"
   ]
  },
  {
   "cell_type": "code",
   "execution_count": 110,
   "metadata": {},
   "outputs": [
    {
     "ename": "SyntaxError",
     "evalue": "invalid syntax (<ipython-input-110-21b56427fe88>, line 4)",
     "output_type": "error",
     "traceback": [
      "\u001b[1;36m  File \u001b[1;32m\"<ipython-input-110-21b56427fe88>\"\u001b[1;36m, line \u001b[1;32m4\u001b[0m\n\u001b[1;33m    except:\u001b[0m\n\u001b[1;37m         ^\u001b[0m\n\u001b[1;31mSyntaxError\u001b[0m\u001b[1;31m:\u001b[0m invalid syntax\n"
     ]
    }
   ],
   "source": [
    "f =open(path,'w')\n",
    "try:\n",
    "    write_to_file(f)\n",
    "    except:\n",
    "        print('Failed')\n",
    "        else:\n",
    "            print('succeded')\n",
    "    finally:\n",
    "        f.close()\n",
    "        "
   ]
  },
  {
   "cell_type": "code",
   "execution_count": 125,
   "metadata": {},
   "outputs": [
    {
     "name": "stdout",
     "output_type": "stream",
     "text": [
      "Failed\n"
     ]
    }
   ],
   "source": [
    "path=%pwd\n",
    "path=path+'//hi.txt'\n",
    "f = open(path, 'w')\n",
    "try:\n",
    "    write_to_file(f)\n",
    "except: \n",
    "        print('Failed') \n",
    "else: \n",
    "        print('Succeeded') \n",
    "finally: \n",
    "    f.close()"
   ]
  },
  {
   "cell_type": "markdown",
   "metadata": {},
   "source": [
    "#### Exceptions in ipython\n",
    "### Files and Operating System"
   ]
  },
  {
   "cell_type": "code",
   "execution_count": 130,
   "metadata": {},
   "outputs": [
    {
     "ename": "SyntaxError",
     "evalue": "(unicode error) 'unicodeescape' codec can't decode bytes in position 2-3: truncated \\UXXXXXXXX escape (<ipython-input-130-c0587784ebb5>, line 2)",
     "output_type": "error",
     "traceback": [
      "\u001b[1;36m  File \u001b[1;32m\"<ipython-input-130-c0587784ebb5>\"\u001b[1;36m, line \u001b[1;32m2\u001b[0m\n\u001b[1;33m    path='C:\\Users\\Administrator\\AnacondaProjects\\hi.txt'\u001b[0m\n\u001b[1;37m        ^\u001b[0m\n\u001b[1;31mSyntaxError\u001b[0m\u001b[1;31m:\u001b[0m (unicode error) 'unicodeescape' codec can't decode bytes in position 2-3: truncated \\UXXXXXXXX escape\n"
     ]
    }
   ],
   "source": [
    "import codecs\n",
    "path='C:\\Users\\Administrator\\AnacondaProjects\\hi.txt'\n",
    "f=codecs.open(path,'utf-8')"
   ]
  },
  {
   "cell_type": "code",
   "execution_count": 133,
   "metadata": {},
   "outputs": [],
   "source": [
    "path=%pwd\n",
    "path=path+'//hi.txt'\n",
    "import codecs\n",
    "# path='C:\\Users\\Administrator\\AnacondaProjects\\hi.txt'\n",
    "f=codecs.open(path,'r','utf-8')"
   ]
  },
  {
   "cell_type": "code",
   "execution_count": 135,
   "metadata": {},
   "outputs": [],
   "source": [
    "lines=[x.rstrip() for x in codecs.open(path,'r','gbk')]"
   ]
  },
  {
   "cell_type": "code",
   "execution_count": 136,
   "metadata": {},
   "outputs": [
    {
     "data": {
      "text/plain": [
       "[\"'Sue?a el rico en su riqueza,',\",\n",
       " \" 'que más cuidados le ofrece;',\",\n",
       " \" '',\",\n",
       " \" 'sue?a el pobre que padece',\",\n",
       " \" 'su miseria y su pobreza;',\",\n",
       " \" '',\",\n",
       " \" 'sue?a el que a medrar empieza,',\",\n",
       " \" 'sue?a el que afana y pretende,',\",\n",
       " \" 'sue?a el que agravia y ofende,',\",\n",
       " \" '',\",\n",
       " \" 'y en el mundo, en conclusión,',\",\n",
       " \" 'todos sue?an lo que son,',\",\n",
       " \" 'aunque ninguno lo entiende.',\"]"
      ]
     },
     "execution_count": 136,
     "metadata": {},
     "output_type": "execute_result"
    }
   ],
   "source": [
    "lines"
   ]
  },
  {
   "cell_type": "code",
   "execution_count": 140,
   "metadata": {},
   "outputs": [],
   "source": [
    "lines=[x.rstrip() for x in open(path)]"
   ]
  },
  {
   "cell_type": "code",
   "execution_count": 141,
   "metadata": {},
   "outputs": [
    {
     "data": {
      "text/plain": [
       "[\"('编辑菜单','Biānjí càidān'),\",\n",
       " \"('关系窗口','Guānxì chuāngkǒu'),\",\n",
       " \"('文件菜单','Wénjiàn càidān'),\",\n",
       " \"('[编辑] 功能表','[Biānjí] gōngnéng biǎo'),\",\n",
       " \"('[不在办公室] 讯息','[Bùzài bàngōngshì] xùnxí'),\",\n",
       " \"('[档案] 功能表','[Dǎng'àn] gōngnéng biǎo'),\",\n",
       " \"('[简易筛选] 索引标籤','[Jiǎnyì shāixuǎn] suǒyǐn biāo qiān'),\",\n",
       " \"('[进阶筛选] 索引标籤','[Jìn jiē shāixuǎn] suǒyǐn biāo qiān'),\",\n",
       " \"('[开始] 功能表','[Kāishǐ] gōngnéng biǎo'),\",\n",
       " \"('[删除的邮件] 资料夹','[Shānchú de yóujiàn] zīliào jiā'),\",\n",
       " \"('[商务工具] 功能表','[Shāngwù gōngjù] gōngnéng biǎo'),\",\n",
       " \"('[商务历程记录] 资料夹','[Shāngwù lìchéng jìlù] zīliào jiā'),\",\n",
       " \"('[收件匣] 资料夹','[Shōu jiàn xiá] zīliào jiā'),\",\n",
       " \"('「工作阶段初始通讯协定」主干连线','`Gōngzuò jiēduàn chūshǐ tōngxùn xiédìng'zhǔ gān lián xiàn'),\",\n",
       " \"('@ 记号','@ Jìhào'),\",\n",
       " \"('>形箭号清单','>Xíng jiàn hào qīngdān'),\",\n",
       " \"('1,2-二氯乙烷','1,2-èr lǜ yǐ wán'),\",\n",
       " \"('100% 堆叠横条图','100% Duīdié héng tiáo tú'),\",\n",
       " \"('100% 堆叠直条图','100% Duīdié zhí tiáo tú'),\",\n",
       " \"('10月','10 Yuè'),\",\n",
       " \"('11月','11 Yuè'),\",\n",
       " \"('12月','12 Yuè'),\",\n",
       " \"('1月','1 Yuè'),\",\n",
       " \"('2-氯苯乙酮','2-Lù běn yǐ tóng'),\",\n",
       " \"('2006年世界杯足球赛','2006 Nián shìjièbēi zúqiú sài'),\",\n",
       " \"('2月','2 Yuè'),\",\n",
       " \"('32 位机器','32 Wèi jīqì'),\",\n",
       " \"('32 位元电脑','32 Wèi yuán diànnǎo'),\",\n",
       " \"('3月','3 Yuè'),\",\n",
       " \"('3D眼镜','3D yǎnjìng'),\",\n",
       " \"('4-氨基水杨酸','4-ānjī shuǐ yáng suān'),\",\n",
       " \"('4月','4 Yuè'),\",\n",
       " \"('5月','5 Yuè'),\",\n",
       " \"('6月','6 Yuè'),\",\n",
       " \"('7月','7 Yuè'),\",\n",
       " \"('8 位元色彩','8 Wèi yuán sècǎi'),\",\n",
       " \"('8位彩色','8 Wèi cǎisè'),\",\n",
       " \"('8月','8 Yuè'),\",\n",
       " \"('9月','9 Yuè'),\",\n",
       " \"('阿比西尼亚猫','ā bǐ xī ní yǎ māo'),\",\n",
       " \"('阿波罗绢蝶','ābō luó juàn dié'),\",\n",
       " \"('阿卜杜拉','ā bo dù lā'),\",\n",
       " \"('阿卜杜拉二世','ā bo dù lā èr shì'),\",\n",
       " \"('阿布哈兹','ābù hā zī'),\",\n",
       " \"('阿布贾','ābù jiǎ'),\",\n",
       " \"('阿布贾德数字','ābù jiǎ dé shùzì'),\",\n",
       " \"('阿布扎比','ābù zhá bǐ'),\",\n",
       " \"('阿道夫·希特勒','ādàofū·xītèlēi'),\",\n",
       " \"('阿迪格','ādí gé'),\",\n",
       " \"('阿多尼斯','ā duō nísī'),\",\n",
       " \"('阿尔·戈尔','ā'ěr·gē ěr'),\",\n",
       " \"('阿尔巴尼亚','ā'ěrbāníyǎ'),\",\n",
       " \"('阿尔巴尼亚人','ā'ěrbāníyǎ rén'),\",\n",
       " \"('阿尔巴尼亚文','ā'ěrbāníyǎ wén'),\",\n",
       " \"('阿尔巴尼亚语','ā'ěrbāníyǎ yǔ'),\",\n",
       " \"('阿尔卑斯山','ā'ěrbēisī shān'),\",\n",
       " \"('阿尔蒂普拉诺高原','ā'ěr dì pǔ lā nuò gāoyuán'),\",\n",
       " \"('阿尔及尔','ā'ěr jí ěr'),\",\n",
       " \"('阿尔及利亚','ā'ěrjílìyǎ'),\",\n",
       " \"('阿尔萨斯','ā'ěr sà sī'),\",\n",
       " \"('阿尔泰','ā'ěrtài'),\",\n",
       " \"('阿尔泰共和国','ā'ěrtài gònghéguó'),\",\n",
       " \"('阿尔及利亚','ā'ěrjílìyǎ'),\",\n",
       " \"('阿非利加','āfēilìjiā'),\",\n",
       " \"('阿非利卡语','ā fēi lì kǎ yǔ'),\",\n",
       " \"('阿非利堪斯语','ā fēi lì kān sī yǔ'),\",\n",
       " \"('阿伏伽德罗定律','ā fú jiā dé luó dìnglǜ'),\",\n",
       " \"('阿佛洛狄忒','ā fó luò dí tè'),\",\n",
       " \"('阿富汗','āfùhàn'),\",\n",
       " \"('阿哥拉','ā gē lā'),\",\n",
       " \"('阿根廷','āgēntíng'),\",\n",
       " \"('阿赫马德·阿萨维','ā hè mǎ dé·ā sà wéi'),\",\n",
       " \"('阿訇','āhōng'),\",\n",
       " \"('阿基米德','ā jī mǐ dé'),\",\n",
       " \"('阿加迪尔','ā jiā dí ěr'),\",\n",
       " \"('阿迦','ā jiā'),\",\n",
       " \"('阿卡德语','ā kǎ déyǔ'),\",\n",
       " \"('阿克莫拉州','ā kè mò lā zhōu'),\",\n",
       " \"('阿克塞哈萨克族自治县','ā kè sāi hāsàkè zú zìzhìxiàn'),\",\n",
       " \"('阿克套','ā kè tào'),\",\n",
       " \"('阿克托贝','ā kè tuō bèi'),\",\n",
       " \"('阿克托贝州','ā kè tuō bèi zhōu'),\",\n",
       " \"('阿肯','ā kěn'),\",\n",
       " \"('阿拉','ālā'),\",\n",
       " \"('阿拉伯','ālābó'),\",\n",
       " \"('阿拉伯埃及共和国','ālābó āijí gònghéguó'),\",\n",
       " \"('阿拉伯半岛','ālābó bàndǎo'),\",\n",
       " \"('阿拉伯帝国','ālābó dìguó'),\",\n",
       " \"('阿拉伯狒狒','ālābó fèifèi'),\",\n",
       " \"('阿拉伯胶','ālābó jiāo'),\",\n",
       " \"('阿拉伯联合酋长国','ālābó liánhé qiúzhǎngguó'),\",\n",
       " \"('阿拉伯式花纹','ālābó shì huāwén'),\",\n",
       " \"('阿拉伯糖','ālābó táng'),\",\n",
       " \"('阿拉伯头巾','ālābó tóujīn'),\",\n",
       " \"('阿拉伯文','ālābó wén'),\",\n",
       " \"('阿拉伯语','ālābó yǔ'),\",\n",
       " \"('阿拉伯字母','ālābó zìmǔ'),\",\n",
       " \"('阿拉木图','ālā mù tú'),\",\n",
       " \"('阿拉木图州','ālā mù tú zhōu'),\",\n",
       " \"('阿拉斯加州','ālāsījiā zhōu'),\",\n",
       " \"('阿里乌教派','ālǐ wū jiàopài'),\",\n",
       " \"('阿联酋','āliánqiú'),\",\n",
       " \"('阿联酋长国','ā lián qiúzhǎngguó'),\",\n",
       " \"('阿鲁巴','ā lǔ bā'),\",\n",
       " \"('阿曼','āmàn'),\",\n",
       " \"('阿门','āmén'),\",\n",
       " \"('阿们','āmen'),\",\n",
       " \"('阿米巴痢疾','ā mǐ bā lìjí'),\",\n",
       " \"('阿姆河','ā mǔ hé'),\",\n",
       " \"('阿姆斯特丹','āmǔsītèdān'),\",\n",
       " \"('阿皮亚','ā pí yà'),\",\n",
       " \"('阿片','āpiàn'),\",\n",
       " \"('阿奇霉素','āqíméisù'),\",\n",
       " \"('阿塞拜疆','āsèbàijiāng'),\",\n",
       " \"('阿塞拜疆人','āsèbàijiāng rén'),\",\n",
       " \"('阿森松岛','āsēn sōng dǎo'),\",\n",
       " \"('阿谁','ā shéi'),\",\n",
       " \"('阿什哈巴德','ā shén hǎbā dé'),\",\n",
       " \"('阿史那','ā shǐ nà'),\",\n",
       " \"('阿司匹林','āsīpīlín'),\",\n",
       " \"('阿斯塔纳','ā sī tǎ nà'),\",\n",
       " \"('阿斯特拉罕','ā sī tè lā hǎn'),\",\n",
       " \"('阿斯特拉罕州','ā sī tè lā hǎn zhōu'),\",\n",
       " \"('阿特劳','ā tè láo'),\",\n",
       " \"('阿提卡式底座','ā tí kǎ shì dǐzuò'),\",\n",
       " \"('阿提拉','ā tí lā'),\",\n",
       " \"('阿托','ā tuō'),\",\n",
       " \"('阿魏','ā wèi'),\",\n",
       " \"('阿兄','ā xiōng'),\",\n",
       " \"('阿亚图拉','ā yà tú lā'),\",\n",
       " \"('阿亚','ā yà'),\",\n",
       " \"('阿姨','āyí'),\",\n",
       " \"('锕','ā'),\",\n",
       " \"('锕系元素','ā xì yuánsù'),\",\n",
       " \"('啊','A'),\",\n",
       " \"('哀伤','āishāng'),\",\n",
       " \"('埃尔祖鲁姆','āi ěr zǔ lǔ mǔ'),\",\n",
       " \"('埃癸斯','āi guǐ sī'),\",\n",
       " \"('埃及','āijí'),\",\n",
       " \"('埃及学','āijí xué'),\",\n",
       " \"('埃里温','āi lǐ wēn'),\",\n",
       " \"('埃米尔','āi mǐ'ěr'),\",\n",
       " \"('埃塞俄比亚','āisāi'ébǐyǎ'),\",\n",
       " \"('埃森','āi sēn'),\",\n",
       " \"('埃斯基尔斯蒂纳','āi sī jī ěr sī dì nà'),\",\n",
       " \"('埃斯库罗斯','āi sī kù luósī'),\",\n",
       " \"('锿','āi'),\",\n",
       " \"('嗳','āi'),\",\n",
       " \"('癌症','áizhèng'),\",\n",
       " \"('矮','ǎi'),\",\n",
       " \"('矮种马','ǎi zhǒng mǎ'),\",\n",
       " \"('艾卜哈','ài bo hā'),\",\n",
       " \"('艾尔顿·约翰','ài ěr dùn·yuēhàn'),\",\n",
       " \"('艾尔玛善镇','ài ěr mǎ shàn zhèn'),\",\n",
       " \"('艾可萨','ài kě sà'),\",\n",
       " \"('艾滋病','àizībìng'),\",\n",
       " \"('爱','ài'),\",\n",
       " \"('爱达荷州','ài dá hé zhōu'),\",\n",
       " \"('爱戴','àidài'),\",\n",
       " \"('爱尔兰','ài'ěrlán'),\",\n",
       " \"('爱尔兰共和国','ài'ěrlán gònghéguó'),\",\n",
       " \"('爱好','àihào'),\",\n",
       " \"('爱好者','àihào zhě'),\",\n",
       " \"('爱兰','ài lán'),\",\n",
       " \"('爱情','àiqíng'),\",\n",
       " \"('爱人','àirén'),\",\n",
       " \"('爱沙尼亚','àishāníyǎ'),\",\n",
       " \"('爱上','ài shàng'),\",\n",
       " \"('砹','ài'),\",\n",
       " \"('爱国主义','àiguó zhǔyì'),\",\n",
       " \"('安道尔','āndào ěr'),\",\n",
       " \"('安道尔城','āndào ěr chéng'),\",\n",
       " \"('安道尔共和国','āndào ěr gònghéguó'),\",\n",
       " \"('安的列斯群岛','ān dì liè sī qúndǎo'),\",\n",
       " \"('安哥拉','āngēlā'),\",\n",
       " \"('安圭拉','ān guī lā'),\",\n",
       " \"('安静','ānjìng'),\",\n",
       " \"('安卡拉','ānkǎlā'),\",\n",
       " \"('安拉','ān lā'),\",\n",
       " \"('安拉至大','ān lā zhì dà'),\",\n",
       " \"('安乐死','ānlèsǐ'),\",\n",
       " \"('安曼','ānmàn'),\",\n",
       " \"('安那托利亚','ān nàtuō lì yǎ'),\",\n",
       " \"('安纳巴','ān nà bā'),\",\n",
       " \"('安乃近','ān nǎi jìn'),\",\n",
       " \"('安排会议','ānpái huìyì'),\",\n",
       " \"('安培','ānpéi'),\",\n",
       " \"('安培小时','ānpéi xiǎoshí'),\",\n",
       " \"('安琪儿','ānqí'ér'),\",\n",
       " \"('安全','ānquán'),\",\n",
       " \"('安全边界网关','ānquán biānjiè wǎngguān'),\",\n",
       " \"('安全标识符','ānquán biāozhì fú'),\",\n",
       " \"('安全发件人列表','ānquán fā jiàn rén lièbiǎo'),\",\n",
       " \"('安全阀','ānquán fá'),\",\n",
       " \"('安全工程','ānquán gōngchéng'),\",\n",
       " \"('安全记事','ānquán jìshì'),\",\n",
       " \"('安全寄件者清单','ānquán jì jiàn zhě qīngdān'),\",\n",
       " \"('安全角色','ānquán juésè'),\",\n",
       " \"('安全列表集','ānquán lièbiǎo jí'),\",\n",
       " \"('安全描述符','ānquán miáoshù fú'),\",\n",
       " \"('安全模式','ānquán móshì'),\",\n",
       " \"('安全配置向导','ānquán pèizhì xiàngdǎo'),\",\n",
       " \"('安全清单集合','ānquán qīngdān jíhé'),\",\n",
       " \"('安全收件人列表','ānquán shōu jiàn rén lièbiǎo'),\",\n",
       " \"('安全收件者清单','ānquán shōu jiàn zhě qīngdān'),\",\n",
       " \"('安全说明','ānquán shuōmíng'),\",\n",
       " \"('安全套','ānquántào'),\",\n",
       " \"('安全性','ānquán xìng'),\",\n",
       " \"('安全性关键','ānquán xìng guānjiàn'),\",\n",
       " \"('安全性界限闸道','ānquán xìng jièxiàn zhá dào'),\",\n",
       " \"('安全性描述元','ānquán xìng miáoshù yuán'),\",\n",
       " \"('安全性识别码','ānquán xìng shìbié mǎ'),\",\n",
       " \"('安全性支援提供者介面','ānquán xìng zhīyuán tígōng zhě jièmiàn'),\",\n",
       " \"('安全性主体','ānquán xìng zhǔtǐ'),\",\n",
       " \"('安全支持提供程序接口','ānquán zhīchí tígōng chéngxù jiēkǒu'),\",\n",
       " \"('安全主体','ānquán zhǔtǐ'),\",\n",
       " \"('安山岩',''),\",\n",
       " \"('安塔利亚','ān tǎ lì yǎ'),\",\n",
       " \"('安提瓜和巴布达','ān tí guā hé bā bù dá'),\",\n",
       " \"('安慰剂效应','ānwèi jì xiàoyìng'),\",\n",
       " \"('安装','ānzhuāng'),\",\n",
       " \"('安装程序','ānzhuāng chéngxù'),\",\n",
       " \"('安装程式','ānzhuāng chéngshì'),\",\n",
       " \"('桉树','ānshù'),\",\n",
       " \"('氨','ān'),\",\n",
       " \"('氨苄青霉素','ānbiàn qīngméisù'),\",\n",
       " \"('氨基酸','ānjīsuān'),\",\n",
       " \"('氨基糖','ānjī táng'),\",\n",
       " \"('氨水','ānshuǐ'),\",\n",
       " \"('鹌鹑','ānchún'),\",\n",
       " \"('鞍','ān'),\",\n",
       " \"('鹌鹑','ānchún'),\",\n",
       " \"('铵','ǎn'),\",\n",
       " \"('岸','àn'),\",\n",
       " \"('按窗体筛选','àn chuāng tǐ shāixuǎn'),\",\n",
       " \"('按键顺序','ànjiàn shùnxù'),\",\n",
       " \"('按键','ànjiàn'),\",\n",
       " \"('按键组合','ànjiàn zǔhé'),\",\n",
       " \"('按揭','ànjiē'),\",\n",
       " \"('按两下','àn liǎng xià'),\",\n",
       " \"('按名字拨叫','àn míngzì bō jiào'),\",\n",
       " \"('按摩','ànmó'),\",\n",
       " \"('按摩棒','ànmó bàng'),\",\n",
       " \"('按钮','ànniǔ'),\",\n",
       " \"('按钮表面','ànniǔ biǎomiàn'),\",\n",
       " \"('按需工作流','àn xū gōngzuò liú'),\",\n",
       " \"('按选定内容排出筛选','àn xuǎn dìng nèiróng páichū shāixuǎn'),\",\n",
       " \"('按选定内容筛选','àn xuǎn dìng nèiróng shāixuǎn'),\",\n",
       " \"('按一下','àn yīxià'),\",\n",
       " \"('按一下拨打','àn yīxià bōdǎ'),\",\n",
       " \"('按一下滑鼠','àn yī xiàhuá shǔ'),\",\n",
       " \"('按照法律的','ànzhào fǎlǜ de'),\",\n",
       " \"('按住','àn zhù'),\",\n",
       " \"('案例','ànlì'),\",\n",
       " \"('案例解决','ànlì jiějué'),\",\n",
       " \"('胺','àn'),\",\n",
       " \"('暗','àn'),\",\n",
       " \"('暗礁','ànjiāo'),\",\n",
       " \"('暗色岩','ànsè yán'),\",\n",
       " \"('暗杀','ànshā'),\",\n",
       " \"('暗物质','ànwùzhí'),\",\n",
       " \"('昂贵','ángguì'),\",\n",
       " \"('凹版印刷','āobǎn yìnshuā'),\",\n",
       " \"('凹槽 (建筑学)','āo cáo (jiànzhú xué)'),\",\n",
       " \"('敖德萨','áo dé sà'),\",\n",
       " \"('獒','áo'),\",\n",
       " \"('奥','ào'),\",\n",
       " \"('奥德','ào dé'),\",\n",
       " \"('奥德赛','àodésài'),\",\n",
       " \"('奥地利','àodìlì'),\",\n",
       " \"('奥格斯堡','ào gé sī bǎo'),\",\n",
       " \"('奥国','ào guó'),\",\n",
       " \"('奥兰','ào lán'),\",\n",
       " \"('奥林匹克','àolínpǐkè'),\",\n",
       " \"('奥林匹克运动会','àolínpǐkè yùndònghuì'),\",\n",
       " \"('奥伦堡','ào lún bǎo'),\",\n",
       " \"('奥氏体','ào shì tǐ'),\",\n",
       " \"('奥斯陆','àosīlù'),\",\n",
       " \"('奥斯曼帝国','àosīmàn dìguó'),\",\n",
       " \"('奥斯曼土耳其语','àosīmàn tǔ'ěrqí yǔ'),\",\n",
       " \"('奥陶纪','ào táo jì'),\",\n",
       " \"('奥运会','àoyùnhuì'),\",\n",
       " \"('奥得河','ào dé hé'),\",\n",
       " \"('奥地利','àodìlì'),\",\n",
       " \"('奥斯曼帝国','àosīmàn dìguó'),\",\n",
       " \"('奥维德','ào wéi dé'),\",\n",
       " \"('澳大拉西亚','ào dà lā xī yà'),\",\n",
       " \"('澳大利亚','àodàlìyǎ'),\",\n",
       " \"('澳大利亚联邦','àodàlìyǎ liánbāng'),\",\n",
       " \"('澳门','àomén'),\",\n",
       " \"('澳洲','àozhōu'),\",\n",
       " \"('澳洲魔蜥','àozhōu mó xī'),\",\n",
       " \"('澳洲野犬','àozhōu yěquǎn'),\",\n",
       " \"('八','Bā'),\",\n",
       " \"('八十','Bāshí'),\",\n",
       " \"('八月','Bā yuè'),\",\n",
       " \"('八字胡','Bāzì hú'),\",\n",
       " \"('巴巴多斯','Bābāduōsī'),\",\n",
       " \"('巴卑尔','Bā bēi ěr'),\",\n",
       " \"('巴贝多','Bā bèiduō'),\",\n",
       " \"('巴比伦','Bābǐlún'),\",\n",
       " \"('巴布亚纽几内亚','Bābùyǎ niǔ jǐnèiyǎ'),\",\n",
       " \"('巴布亚皮钦语','Bābùyǎ pí qīn yǔ'),\",\n",
       " \"('巴布亚新几内亚','Bābùyǎ xīn jǐnèiyǎ'),\",\n",
       " \"('巴尔干半岛','Bā'ěrgàn bàndǎo'),\",\n",
       " \"('巴甫洛达尔','Bā fǔ luò dá'ěr'),\",\n",
       " \"('巴格达','Bāgédá'),\",\n",
       " \"('巴哈马','Bāhāmǎ'),\",\n",
       " \"('巴基斯坦','Bājīsītǎn'),\",\n",
       " \"('巴基斯坦伊斯兰共和国','Bājīsītǎn yīsīlán gònghéguó'),\",\n",
       " \"('巴库','Bā kù'),\",\n",
       " \"('巴拉圭','Bālāguī'),\",\n",
       " \"('巴拉莱卡琴','Bā lā láikǎ qín'),\",\n",
       " \"('巴拉莱卡琴','Bā lā láikǎ qín'),\",\n",
       " \"('巴拉瓦饼','Bā lā wǎ bǐng'),\",\n",
       " \"('巴勒斯坦','Bālèsītǎn'),\",\n",
       " \"('巴厘岛','Bālí dǎo'),\",\n",
       " \"('巴黎','Bālí'),\",\n",
       " \"('巴里坤哈萨克自治县','Bālǐ kūn hāsàkè zìzhìxiàn'),\",\n",
       " \"('巴林','Bālín'),\",\n",
       " \"('巴拿马','Bānámǎ'),\",\n",
       " \"('巴拿马运河','Bānámǎ yùnhé'),\",\n",
       " \"('巴拿马地峡','Bānámǎ dìxiá'),\",\n",
       " \"('巴塞罗那','Bāsèluōnà'),\",\n",
       " \"('巴刹','Bā shā'),\",\n",
       " \"('巴什基尔语','Bā shén jī ěr yǔ'),\",\n",
       " \"('巴什科尔托斯坦','Bā shén kē ěr tuō sītǎn'),\",\n",
       " \"('巴什科尔托斯坦共和国','Bā shén kē ěr tuō sītǎn gònghéguó'),\",\n",
       " \"('巴什利克帽','Bā shén lìkè mào'),\",\n",
       " \"('巴士','Bāshì'),\",\n",
       " \"('巴士车站','Bāshì chēzhàn'),\",\n",
       " \"('巴士底狱','Bāshì dǐ yù'),\",\n",
       " \"('巴士拉','Bāshìlā'),\",\n",
       " \"('巴氏合金','Bā shì héjīn'),\",\n",
       " \"('巴斯海峡','Bā sī hǎixiá'),\",\n",
       " \"('巴斯克人','Bā sīkè rén'),\",\n",
       " \"('巴斯玛奇','Bā sī mǎ qí'),\",\n",
       " \"('巴西','Bāxī'),\",\n",
       " \"('巴西利卡','Bāxī lì kǎ'),\",\n",
       " \"('巴西利斯克','Bāxī lì sīkè'),\",\n",
       " \"('巴仙','Bā xiān'),\",\n",
       " \"('巴彦乌列盖省','Bā yàn wū liè gài shěng'),\",\n",
       " \"('巴依','Bā yī'),\",\n",
       " \"('巴扎','Bā zhā'),\",\n",
       " \"('芭蕾舞','Bālěiwǔ'),\",\n",
       " \"('芭蕾舞者','Bālěiwǔ zhě'),\",\n",
       " \"('捌','Bā'),\",\n",
       " \"('拔河','Báhé'),\",\n",
       " \"('拔牙术','Báyá shù'),\",\n",
       " \"('把','Bǎ'),\",\n",
       " \"('钯','Bǎ'),\",\n",
       " \"('靶恩','Bǎ ēn'),\",\n",
       " \"('靶心图表','Bǎxīn túbiǎo'),\",\n",
       " \"('靶心图清单','Bǎxīn tú qīngdān'),\",\n",
       " \"('坝','Bà'),\",\n",
       " \"('爸爸','Bàba'),\",\n",
       " \"('爸妈','Bà mā'),\",\n",
       " \"('罢工','Bàgōng'),\",\n",
       " \"('耙','Bà'),\",\n",
       " \"('耙梳','Bà shū'),\",\n",
       " \"('耙子','Bàzi'),\",\n",
       " \"('罢工','Bàgōng'),\",\n",
       " \"('霸权主义','Bàquán zhǔyì'),\",\n",
       " \"('白','Bái'),\",\n",
       " \"('白矮星','Bái'ǎixīng'),\",\n",
       " \"('白北鲑','Bái běi guī'),\",\n",
       " \"('白背矶鸫','Bái bèi jī dōng'),\",\n",
       " \"('白菜卷','Báicài juǎn'),\",\n",
       " \"('白痴','Báichī'),\",\n",
       " \"('白翅拟蜡嘴雀','Bái chì nǐ là zuǐ què'),\",\n",
       " \"('白炽灯泡','Báichì dēngpào'),\",\n",
       " \"('白蛋白','Bái dànbái'),\",\n",
       " \"('白的','Bái de'),\",\n",
       " \"('白癜风','Báidiànfēng'),\",\n",
       " \"('白洞','Bái dòng'),\",\n",
       " \"('白俄国','Bái è guó'),\",\n",
       " \"('白俄罗斯','Bái'èluósī'),\",\n",
       " \"('白俄罗斯文','Bái'èluósī wén'),\",\n",
       " \"('白俄罗斯语','Bái'èluósī yǔ'),\",\n",
       " \"('白俄罗斯语','Bái'èluósī yǔ'),\",\n",
       " \"('白垩纪','Bái'è jì'),\",\n",
       " \"('白垩岩','Bái'è yán'),\",\n",
       " \"('白粉病','Báifěn bìng'),\",\n",
       " \"('白干酪','Bái gānlào'),\",\n",
       " \"('白宫','Báigōng'),\",\n",
       " \"('白海','Bái hǎi'),\",\n",
       " \"('白喉','Báihóu'),\",\n",
       " \"('白化症','Báihuà zhèng'),\",\n",
       " \"('白鱀豚','Bái jì tún'),\",\n",
       " \"('白金','Báijīn'),\",\n",
       " \"('白鲸','Bái jīng'),\",\n",
       " \"('白酒','Báijiǔ'),\",\n",
       " \"('白令海','Báilìnghǎi'),\",\n",
       " \"('白榴石','Bái liú shí'),\",\n",
       " \"('白眉歌鸫','Báiméi gē dōng'),\",\n",
       " \"('白目','Báimù'),\",\n",
       " \"('白内障','Báinèizhàng'),\",\n",
       " \"('白砒','Bái pī'),\",\n",
       " \"('白葡萄酒','Bái pútáojiǔ'),\",\n",
       " \"('白铅矿','Bái qiān kuàng'),\",\n",
       " \"('白人','Báirén'),\",\n",
       " \"('白日梦','Bái rì mèng'),\",\n",
       " \"('白软干酪','Bái ruǎn gānlào'),\",\n",
       " \"('白色','Báisè'),\",\n",
       " \"('白色垃圾','Báisè lèsè'),\",\n",
       " \"('白天','Báitiān'),\",\n",
       " \"('白铁矿','Bái tiě kuàng'),\",\n",
       " \"('白厅','Bái tīng'),\",\n",
       " \"('白铜','Báitóng'),\",\n",
       " \"('白头鹀','Báitóu wú'),\",\n",
       " \"('白兔','Bái tù'),\",\n",
       " \"('白脱','Bái tuō'),\",\n",
       " \"('白尾海雕','Báiwěi hǎi diāo'),\",\n",
       " \"('白钨矿','Bái wū kuàng'),\",\n",
       " \"('白细胞减少症','Báixìbāo jiǎnshǎo zhèng'),\",\n",
       " \"('白熊','Báixióng'),\",\n",
       " \"('白雪','Báixuě'),\",\n",
       " \"('白血病','Báixiěbìng'),\",\n",
       " \"('白血球','Báixiěqiú'),\",\n",
       " \"('白羊座','Báiyángzuò'),\",\n",
       " \"('白鼬','Bái yòu'),\",\n",
       " \"('白云石','Báiyún shí'),\",\n",
       " \"('白云母','Báiyún mǔ'),\",\n",
       " \"('白帐汗国','Bái zhàng hàn guó'),\",\n",
       " \"('白昼','Báizhòu'),\",\n",
       " \"('百','Bǎi'),\",\n",
       " \"('百分比','Bǎifēnbǐ'),\",\n",
       " \"('百分比堆积条形图','Bǎifēnbǐ duījī tiáo xíng tú'),\",\n",
       " \"('百分比堆积柱形图','Bǎifēnbǐ duījī zhù xíng tú'),\",\n",
       " \"('百分比符号','Bǎifēnbǐ fúhào'),\",\n",
       " \"('百分号','Bǎi fēn hào'),\",\n",
       " \"('百分之','Bǎi fēn zhī'),\",\n",
       " \"('百合','Bǎihé'),\",\n",
       " \"('百合花','Bǎihé huā'),\",\n",
       " \"('百科全书','Bǎikē quánshū'),\",\n",
       " \"('百科事典','Bǎikē shìdiǎn'),\",\n",
       " \"('百灵科','Bǎilíng kē'),\",\n",
       " \"('百慕大','Bǎimùdà'),\",\n",
       " \"('百日咳','Bǎirìké'),\",\n",
       " \"('百万','Bǎi wàn'),\",\n",
       " \"('百万富翁','Bǎi wàn fùwēng'),\",\n",
       " \"('百叶窗','Bǎiyèchuāng'),\",\n",
       " \"('百叶帘','Bǎiyè lián'),\",\n",
       " \"('柏拉图','Bólātú'),\",\n",
       " \"('柏林','Bólín'),\",\n",
       " \"('柏林Bólín)','Bólín Bólín)'),\",\n",
       " \"('摆','Bǎi'),\",\n",
       " \"('拜巴尔一世','Bài bā'ěr yīshì'),\",\n",
       " \"('拜拜','Bàibài'),\",\n",
       " \"('拜科努尔','Bài kē nǔ ěr'),\",\n",
       " \"('拜托','Bàituō'),\",\n",
       " \"('拜物教','Bàiwùjiào'),\",\n",
       " \"('拜占庭帝国','Bàizhàntíng dìguó'),\",\n",
       " \"('拜占庭学','Bàizhàntíng xué'),\",\n",
       " \"('败血症','Bàixiězhèng'),\",\n",
       " \"('扳手','Bānshǒu'),\",\n",
       " \"('班迪球','Bān dí qiú'),\",\n",
       " \"('班杜拉琴','Bān dù lā qín'),\",\n",
       " \"('班房','Bānfáng'),\",\n",
       " \"('班加西','Bān jiāxī'),\",\n",
       " \"('斑脸海番鸭','Bān liǎn hǎi fān yā'),\",\n",
       " \"('斑驴','Bān lǘ'),\",\n",
       " \"('斑马','Bānmǎ'),\",\n",
       " \"('斑马','Bānmǎ'),\",\n",
       " \"('斑猫','Bānmāo'),\",\n",
       " \"('斑铜矿','Bān tóng kuàng'),\",\n",
       " \"('斑鹟','Bān wēng'),\",\n",
       " \"('斑岩','Bān yán'),\",\n",
       " \"('斑疹伤寒','Bān zhěn shānghán'),\",\n",
       " \"('斑疹伤寒','Bān zhěn shānghán'),\",\n",
       " \"('瘢痕瘤','Bānhén liú'),\",\n",
       " \"('板材','Bǎncái'),\",\n",
       " \"('板块构造论','Bǎnkuài gòuzào lùn'),\",\n",
       " \"('板球','Bǎn qiú'),\",\n",
       " \"('版本','Bǎnběn'),\",\n",
       " \"('版本标记','Bǎnběn biāojì'),\",\n",
       " \"('版本戳记','Bǎnběn chuōjì'),\",\n",
       " \"('版本控制','Bǎnběn kòngzhì'),\",\n",
       " \"('版本历史记录','Bǎnběn lìshǐ jìlù'),\",\n",
       " \"('版本历程记录','Bǎnběn lìchéng jìlù'),\",\n",
       " \"('版本限制','Bǎnběn xiànzhì'),\",\n",
       " \"('版本资讯','Bǎnběn zīxùn'),\",\n",
       " \"('版画','Bǎnhuà'),\",\n",
       " \"('版面模子','Bǎnmiàn múzi'),\",\n",
       " \"('版面母片','Bǎnmiàn mǔ piàn'),\",\n",
       " \"('版面配置','Bǎnmiàn pèizhì'),\",\n",
       " \"('版面配置表格','Bǎnmiàn pèizhì biǎogé'),\",\n",
       " \"('版面配置预览','Bǎnmiàn pèizhì yùlǎn'),\",\n",
       " \"('版面设计','Bǎnmiàn shèjì'),\",\n",
       " \"('版面设定','Bǎnmiàn shè dìng'),\",\n",
       " \"('版权符号','Bǎnquán fúhào'),\",\n",
       " \"('版权所有','Bǎnquán suǒyǒu'),\",\n",
       " \"('办法','Bànfǎ'),\",\n",
       " \"('半','Bàn'),\",\n",
       " \"('半导体','Bàndǎotǐ'),\",\n",
       " \"('半导体器件','Bàndǎotǐ qìjiàn'),\",\n",
       " \"('半导体异质结构','Bàndǎotǐ yì zhí jiégòu'),\",\n",
       " \"('半岛','Bàndǎo'),\",\n",
       " \"('半干旱气候','Bàn gānhàn qìhòu'),\",\n",
       " \"('半规管','Bànguīguǎn'),\",\n",
       " \"('半抗原','Bàn kàngyuán'),\",\n",
       " \"('半人马','Bàn rénmǎ'),\",\n",
       " \"('半乳糖','Bàn rǔtáng'),\",\n",
       " \"('半乳糖血症','Bàn rǔtáng xiě zhèng'),\",\n",
       " \"('半深海带','Bàn shēnhǎi dài'),\",\n",
       " \"('半神','Bàn shén'),\",\n",
       " \"('半神半人','Bàn shén bàn rén'),\",\n",
       " \"('半衰期','Bànshuāiqí'),\",\n",
       " \"('半透明窗口','Bàn tòumíng chuāngkǒu'),\",\n",
       " \"('半透明效果','Bàn tòumíng xiàoguǒ'),\",\n",
       " \"('半夜','Bànyè'),\",\n",
       " \"('半圆形','Bàn yuán xíng'),\",\n",
       " \"('伴奏','Bànzòu'),\",\n",
       " \"('办公室','Bàngōngshì'),\",\n",
       " \"('邦克楼','Bāng kè lóu'),\",\n",
       " \"('邦联制','Bānglián zhì'),\",\n",
       " \"('帮','Bāng'),\",\n",
       " \"('帮忙','Bāngmáng'),\",\n",
       " \"('帮助','Bāngzhù'),\",\n",
       " \"('帮助查看器','Bāngzhù chákàn qì'),\",\n",
       " \"('帮助和支持中心','Bāngzhù hé zhīchí zhōngxīn'),\",\n",
       " \"('帮助集合','Bāngzhù jíhé'),\",\n",
       " \"('帮助面板','Bāngzhù miànbǎn'),\",\n",
       " \"('帮助','Bāngzhù'),\",\n",
       " \"('绑定','Bǎng dìng'),\",\n",
       " \"('绑定对象框架','Bǎng dìng duìxiàng kuàngjià'),\",\n",
       " \"('绑定控件','Bǎng dìng kòngjiàn'),\",\n",
       " \"('绑票','Bǎngpiào'),\",\n",
       " \"('绑售','Bǎng shòu'),\",\n",
       " \"('膀胱','Pángguāng'),\",\n",
       " \"('膀胱炎','Pángguāng yán'),\",\n",
       " \"('棒','Bàng'),\",\n",
       " \"('棒棒糖','Bàng bàng táng'),\",\n",
       " \"('棒球','Bàngqiú'),\",\n",
       " \"('磅','Bàng'),\",\n",
       " \"('包','Bāo'),\",\n",
       " \"('包含式','Bāohán shì'),\",\n",
       " \"('包脚布','Bāo jiǎo bù'),\",\n",
       " \"('包络线','Bāo luò xiàn'),\",\n",
       " \"('包皮环切术','Bāopí huán qiē shù'),\",\n",
       " \"('包皮微雕环切术','Bāopí wéidiāo huán qiē shù'),\",\n",
       " \"('包头','Bāotóu'),\",\n",
       " \"('包围','Bāowéi'),\",\n",
       " \"('包心菜','Bāoxīncài'),\",\n",
       " \"('孢粉学','Bāo fěn xué'),\",\n",
       " \"('孢子','Bāozǐ'),\",\n",
       " \"('孢子丝菌病','Bāozǐ sī jùn bìng'),\",\n",
       " \"('胞嘧啶','Bāo mìdìng'),\",\n",
       " \"('胞吐作用','Bāo tǔ zuòyòng'),\",\n",
       " \"('胞饮作用','Bāo yǐn zuòyòng'),\",\n",
       " \"('雹','Báo'),\",\n",
       " \"('雹子','Báozi'),\",\n",
       " \"('薄饼','Báobǐng'),\",\n",
       " \"('薄的','Báo de'),\",\n",
       " \"('薄烤饼','Báo kǎo bǐng'),\",\n",
       " \"('薄片','Bópiàn'),\",\n",
       " \"('薄雾','Bó wù'),\",\n",
       " \"('宝宝','Bǎobǎo'),\",\n",
       " \"('宝贵','Bǎoguì'),\",\n",
       " \"('宝相花','Bǎo xiāng huā'),\",\n",
       " \"('宝座','Bǎozuò'),\",\n",
       " \"('保','Bǎo'),\",\n",
       " \"('保安','Bǎo'ān'),\",\n",
       " \"('保持','Bǎochí'),\",\n",
       " \"('保存','Bǎocún'),\",\n",
       " \"('保存的申请','Bǎocún de shēnqǐng'),\",\n",
       " \"('保存的网络','Bǎocún de wǎngluò'),\",\n",
       " \"('保存库','Bǎocún kù'),\",\n",
       " \"('保管库','Bǎoguǎn kù'),\",\n",
       " \"('保护','Bǎohù'),\",\n",
       " \"('保护点','Bǎohù diǎn'),\",\n",
       " \"('保护国','Bǎohù guó'),\",\n",
       " \"('保护模式','Bǎohù móshì'),\",\n",
       " \"('保护色','Bǎohùsè'),\",\n",
       " \"('保加利亚','Bǎojiālìyǎ'),\",\n",
       " \"('保加利亚人','Bǎojiālìyǎ rén'),\",\n",
       " \"('保留','Bǎoliú'),\",\n",
       " \"('保留策略','Bǎoliú cèlüè'),\",\n",
       " \"('保留原则','Bǎoliú yuánzé'),\",\n",
       " \"('保留状态','Bǎoliú zhuàngtài'),\",\n",
       " \"('保留字','Bǎoliú zì'),\",\n",
       " \"('保姆','Bǎomǔ'),\",\n",
       " \"('保守力','Bǎoshǒu lì'),\",\n",
       " \"('保守主义','Bǎoshǒu zhǔyì'),\",\n",
       " \"('保卫','Bǎowèi'),\",\n",
       " \"('保险合同','Bǎoxiǎn hétóng'),\",\n",
       " \"('保险套','Bǎoxiǎn tào'),\",\n",
       " \"('保险','Bǎoxiǎn'),\",\n",
       " \"('保险丝','Bǎoxiǎnsī'),\",\n",
       " \"('保真','Bǎo zhēn'),\",\n",
       " \"('保真度','Bǎo zhēn dù'),\",\n",
       " \"('保证式转送','Bǎozhèng shì zhuǎnsòng'),\",\n",
       " \"('鸨','Bǎo'),\",\n",
       " \"('堡垒','Bǎolěi'),\",\n",
       " \"('宝石','Bǎoshí'),\",\n",
       " \"('宝珠 (基督教)','Bǎozhū (jīdūjiào)'),\",\n",
       " \"('报','Bào'),\",\n",
       " \"('报表','Bàobiǎo'),\",\n",
       " \"('报表 Web 部件','Bàobiǎo Web bùjiàn'),\",\n",
       " \"('报表工具栏','Bàobiǎo gōngjù lán'),\",\n",
       " \"('报表快照','Bàobiǎo kuàizhào'),\",\n",
       " \"('报表类型','Bàobiǎo lèixíng'),\",\n",
       " \"('报表签名','Bàobiǎo qiānmíng'),\",\n",
       " \"('报表数据库','Bàobiǎo shùjùkù'),\",\n",
       " \"('报表向导','Bàobiǎo xiàngdǎo'),\",\n",
       " \"('报仇','Bàochóu'),\",\n",
       " \"('报道','Bàodào'),\",\n",
       " \"('报复','Bàofù'),\",\n",
       " \"('报告服务报表','Bàogào fúwù bàobiǎo'),\",\n",
       " \"('报告中心','Bàogào zhōngxīn'),\",\n",
       " \"('报价单','Bàojià dān'),\",\n",
       " \"('报税','Bàoshuì'),\",\n",
       " \"('报章','Bàozhāng'),\",\n",
       " \"('报纸','Bàozhǐ'),\",\n",
       " \"('抱子甘蓝','Bào zǐ gānlán'),\",\n",
       " \"('豹','Bào'),\",\n",
       " \"('豹海豹','Bào hǎibào'),\",\n",
       " \"('豹纹鲨','Bào wén shā'),\",\n",
       " \"('豹子','Bàozi'),\",\n",
       " \"('报表精灵','Bàobiǎo jīnglíng'),\",\n",
       " \"('报表快照集','Bàobiǎo kuàizhào jí'),\",\n",
       " \"('报表网页组件','Bàobiǎo wǎngyè zǔjiàn'),\",\n",
       " \"('报表资料库','Bàobiǎo zīliào kù'),\",\n",
       " \"('报告','Bàogào'),\",\n",
       " \"('报告工具列','Bàogào gōngjù liè'),\",\n",
       " \"('报告签章','Bàogào qiān zhāng'),\",\n",
       " \"('报价','Bàojià'),\",\n",
       " \"('铇刀','Bào dāo'),\",\n",
       " \"('铇子','Bào zi'),\",\n",
       " \"('暴发户','Bàofā hù'),\",\n",
       " \"('暴风','Bàofēng'),\",\n",
       " \"('暴风雪','Bàofēngxuě'),\",\n",
       " \"('鲍鱼','Bàoyú'),\",\n",
       " \"('爆谷','Bào gǔ'),\",\n",
       " \"('爆轰','Bào hōng'),\",\n",
       " \"('爆米花','Bào mǐhuā'),\",\n",
       " \"('爆炸','Bàozhà'),\",\n",
       " \"('爆炸式轮廓线','Bàozhà shì lúnkuò xiàn'),\",\n",
       " \"('爆炸式轮廓','Bàozhà shì lúnkuò'),\",\n",
       " \"('爆炸物','Bàozhà wù'),\",\n",
       " \"('杯','Bēi'),\",\n",
       " \"('杯子','Bēizi'),\",\n",
       " \"('悲哀','Bēi'āi'),\",\n",
       " \"('悲观主义','Bēiguān zhǔyì'),\",\n",
       " \"('悲剧','Bēijù'),\",\n",
       " \"('悲伤','Bēishāng'),\",\n",
       " \"('悲喜剧','Bēixǐjù'),\",\n",
       " \"('北','Běi'),\",\n",
       " \"('北冰洋','Běibīngyáng'),\",\n",
       " \"('北朝鲜','Běi cháoxiǎn'),\",\n",
       " \"('北大西洋公约组织','Běi dàxīyáng gōngyuē zǔzhī'),\",\n",
       " \"('北方','Běifāng'),\",\n",
       " \"('北方针叶林','Běi fāngzhēn yè lín'),\",\n",
       " \"('北非','Běifēi'),\",\n",
       " \"('北哈萨克斯坦州','Běi hāsàkè sītǎn zhōu'),\",\n",
       " \"('北海','Běihǎi'),\",\n",
       " \"('北海道','Běihǎidào'),\",\n",
       " \"('北韩','Běihán'),\",\n",
       " \"('北极','Běijí'),\",\n",
       " \"('北极地区','Běijí dìqū'),\",\n",
       " \"('北极点','Běijí diǎn'),\",\n",
       " \"('北极熊','Běijíxióng'),\",\n",
       " \"('北京','Běijīng'),\",\n",
       " \"('北京市','Běijīng shì'),\",\n",
       " \"('北莱茵-威斯特法伦州','Běi láiyīn-wēi sī tè fǎ lún zhōu'),\",\n",
       " \"('北美洲','Běi měizhōu'),\",\n",
       " \"('北欧','Běi'ōu'),\",\n",
       " \"('北塞浦路斯','Běi sāipǔlùsī'),\",\n",
       " \"('北赛普勒斯土耳其共和国','Běi sài pǔ lè sī tǔ'ěrqí gònghéguó'),\",\n",
       " \"('北水苦荬','Běi shuǐ kǔ mǎi'),\",\n",
       " \"('北野武','Běiyě wǔ'),\",\n",
       " \"('贝都因人','Bèi dōu yīn rén'),\",\n",
       " \"('贝尔格莱德','Bèi'ěrgéláidé'),\",\n",
       " \"('贝加尔湖','Bèijiā'ěr hú'),\",\n",
       " \"('贝壳','Bèiké'),\",\n",
       " \"('贝可勒尔','Bèi kě lēi ěr'),\",\n",
       " \"('贝鲁特','Bèilǔtè'),\",\n",
       " \"('贝宁','Bèi níng'),\",\n",
       " \"('贝伊','Bèi yī'),\",\n",
       " \"('贝里斯','Bèi lǐsī'),\",\n",
       " \"('贝南','Bèi nán'),\",\n",
       " \"('贝伊','Bèi yī'),\",\n",
       " \"('备份','Bèifèn'),\",\n",
       " \"('备份副本','Bèifèn fùběn'),\",\n",
       " \"('备份文件','Bèifèn wénjiàn'),\",\n",
       " \"('备忘录','Bèiwànglù'),\",\n",
       " \"('备用访问映射','Bèiyòng fǎngwèn yìngshè'),\",\n",
       " \"('背','Bèi'),\",\n",
       " \"('背包','Bèibāo'),\",\n",
       " \"('背部','Bèibù'),\",\n",
       " \"('背景','Bèijǐng'),\",\n",
       " \"('背景色','Bèijǐng sè'),\",\n",
       " \"('背景色彩','Bèijǐng sècǎi'),\",\n",
       " \"('背景消除','Bèijǐng xiāochú'),\",\n",
       " \"('背囊','Bèi náng'),\",\n",
       " \"('背斜','Bèi xié'),\",\n",
       " \"('背心','Bèixīn'),\",\n",
       " \"('钡','Bèi'),\",\n",
       " \"('倍','Bèi'),\",\n",
       " \"('倍长石','Bèi cháng shí'),\",\n",
       " \"('悖论','Bèi lùn'),\",\n",
       " \"('被忽略的客户','Bèi hūlüè de kèhù'),\",\n",
       " \"('被忽略的天数','Bèi hūlüè de tiānshù'),\",\n",
       " \"('被忽略的业务联系人','Bèi hūlüè de yèwù liánxì rén'),\",\n",
       " \"('被减数','Bèi jiǎn shù'),\",\n",
       " \"('被禁止','Bèi jìnzhǐ'),\",\n",
       " \"('被疏忽的客户','Bèi shūhū de kèhù'),\",\n",
       " \"('被疏忽的商业连络人','Bèi shūhū de shāngyè lián luò rén'),\",\n",
       " \"('被子植物','Bèi zǐ zhíwù'),\",\n",
       " \"('被阻止的联系人','Bèi zǔzhǐ de liánxì rén'),\",\n",
       " \"('备份档案','Bèifèn dǎng'àn'),\",\n",
       " \"('备忘','Bèi wàng'),\",\n",
       " \"('备忘录','Bèiwànglù'),\",\n",
       " \"('备用存取对应','Bèiyòng cún qǔ duìyìng'),\",\n",
       " \"('备注','Bèizhù'),\",\n",
       " \"('钡','Bèi'),\",\n",
       " \"('奔跑','Bēnpǎo'),\",\n",
       " \"('奔逐','Bēn zhú'),\",\n",
       " \"('本地','Běndì'),\",\n",
       " \"('本地包','Běndì bāo'),\",\n",
       " \"('本地的','Běndì de'),\",\n",
       " \"('本地对象','Běndì duìxiàng'),\",\n",
       " \"('本地副本','Běndì fùběn'),\",\n",
       " \"('本地连续复制','Běndì liánxù fùzhì'),\",\n",
       " \"('本地数据库','Běndì shùjùkù'),\",\n",
       " \"('本地消息传递','Běndì xiāoxī chuándì'),\",\n",
       " \"('本地组','Běndì zǔ'),\",\n",
       " \"('本机的','Běn jī de'),\",\n",
       " \"('本机','Běn jī'),\",\n",
       " \"('本机传讯','Běn jī chuánxùn'),\",\n",
       " \"('本机复本','Běn jī fù běn'),\",\n",
       " \"('本机连续复写','Běn jī liánxù fùxiě'),\",\n",
       " \"('本机群组','Běn jī qún zǔ'),\",\n",
       " \"('本机物件','Běn jī wùjiàn'),\",\n",
       " \"('本机资料库','Běn jī zīliào kù'),\",\n",
       " \"('本票','Běn piào'),\",\n",
       " \"('本期','Běn qí'),\",\n",
       " \"('本钱','Běnqián'),\",\n",
       " \"('本体论','Běntǐ lùn'),\",\n",
       " \"('本位栏框','Běnwèi lán kuāng'),\",\n",
       " \"('本位音','Běnwèi yīn'),\",\n",
       " \"('本文','Běnwén'),\",\n",
       " \"('本影','Běn yǐng'),\",\n",
       " \"('本征半导体','Běn zhēng bàndǎotǐ'),\",\n",
       " \"('本州','Běnzhōu'),\",\n",
       " \"('本子','Běnzi'),\",\n",
       " \"('本族语','Běn zú yǔ'),\",\n",
       " \"('苯','Běn'),\",\n",
       " \"('苯胺','Běn'ān'),\",\n",
       " \"('苯并三唑','Běn bìng sān zuò'),\",\n",
       " \"('苯酚','Běnfēn'),\",\n",
       " \"('苯佐卡因','Běn zuǒ kǎ yīn'),\",\n",
       " \"('畚箕','Běnjī'),\",\n",
       " \"('畚箕 (清洁用品)','Běnjī (qīngjié yòngpǐn)'),\",\n",
       " \"('笨','Bèn'),\",\n",
       " \"('笨蛋','Bèndàn'),\",\n",
       " \"('绷床','Bēng chuáng'),\",\n",
       " \"('泵','Bèng'),\",\n",
       " \"('蹦床','Bèngchuáng'),\",\n",
       " \"('屄','Bī'),\",\n",
       " \"('逼','Bī'),\",\n",
       " \"('逼真度','Bīzhēn dù'),\",\n",
       " \"('鼻','Bí'),\",\n",
       " \"('鼻窦炎','Bídòu yán'),\",\n",
       " \"('鼻骨','Bígǔ'),\",\n",
       " \"('鼻孔','Bíkǒng'),\",\n",
       " \"('鼻涕','Bítì'),\",\n",
       " \"('鼻息肉','Bí xī ròu'),\",\n",
       " \"('鼻子','Bízi'),\",\n",
       " \"('鼻子眼','Bí zǐ yǎn'),\",\n",
       " \"('匕','Bǐ'),\",\n",
       " \"('匕首','Bǐshǒu'),\",\n",
       " \"('比表面积','Bǐ biǎomiànjī'),\",\n",
       " \"('比荷卢三国关税同盟','Bǐ hé lú sānguó guānshuì tóngméng'),\",\n",
       " \"('比基尼','Bǐjīní'),\",\n",
       " \"('比较','Bǐjiào'),\",\n",
       " \"('比较器','Bǐjiào qì'),\",\n",
       " \"('比较优势','Bǐjiào yōushì'),\",\n",
       " \"('比较政治学','Bǐjiào zhèngzhì xué'),\",\n",
       " \"('比较法','Bǐjiào fǎ'),\",\n",
       " \"('比勒费尔德','Bǐ lēi fèi ěr dé'),\",\n",
       " \"('比利纳 (诗)','Bǐ lì nà (shī)'),\",\n",
       " \"('比利牛斯山','Bǐ lì niú sī shān'),\",\n",
       " \"('比利时','Bǐlìshí'),\",\n",
       " \"('比例','Bǐlì'),\",\n",
       " \"('比例尺','Bǐlìchǐ'),\",\n",
       " \"('比如','Bǐrú'),\",\n",
       " \"('比萨','Bǐsà'),\",\n",
       " \"('比萨饼','Bǐsàbǐng'),\",\n",
       " \"('比萨斜塔','Bǐsà xié tǎ'),\",\n",
       " \"('比萨饼','Bǐsàbǐng'),\",\n",
       " \"('比什凯克','Bǐ shén kǎi kè'),\",\n",
       " \"('比特','Bǐtè'),\",\n",
       " \"('比特规范','Bǐtè guīfàn'),\",\n",
       " \"('比特率','Bǐtè lǜ'),\",\n",
       " \"('比尤特(美国蒙大拿西南城市)','Bǐ yóu tè (měiguó méng dà ná xīnán chéngshì)'),\",\n",
       " \"('比喩','Bǐyù'),\",\n",
       " \"('比喻 (文体)','Bǐyù (wéntǐ)'),\",\n",
       " \"('比重','Bǐzhòng'),\",\n",
       " \"('比重计','Bǐzhòng jì'),\",\n",
       " \"('比重量','Bǐ zhòngliàng'),\",\n",
       " \"('吡哆醇','Bǐ duō chún'),\",\n",
       " \"('彼得罗巴甫尔','Bǐdé luó bā fǔ ěr'),\",\n",
       " \"('笔','Bǐ'),\",\n",
       " \"('笔记本','Bǐjìběn'),\",\n",
       " \"('笔势','Bǐshì'),\",\n",
       " \"('笔势引擎','Bǐshì yǐnqíng'),\",\n",
       " \"('笔者','Bǐzhě'),\",\n",
       " \"('笔直的','Bǐzhí de'),\",\n",
       " \"('笔迹','Bǐjī'),\",\n",
       " \"('笔记标籤','Bǐjì biāo qiān'),\",\n",
       " \"('笔记型电脑','Bǐjì xíng diànnǎo'),\",\n",
       " \"('笔刨','Bǐ páo'),\",\n",
       " \"('币','Bì'),\",\n",
       " \"('必需组件','Bìxū zǔjiàn'),\",\n",
       " \"('必要性','Bìyào xìng'),\",\n",
       " \"('必要元件','Bìyào yuánjiàn'),\",\n",
       " \"('毕达哥拉斯','Bì dá gē lā sī'),\",\n",
       " \"('闭','Bì'),\",\n",
       " \"('闭合 V 形流程','Bìhé V xíng liúchéng'),\",\n",
       " \"('闭锁综合征','Bìsuǒ zònghé zhēng'),\",\n",
       " \"('庇护权','Bìhù quán'),\",\n",
       " \"('庇护所','Bìhù suǒ'),\",\n",
       " \"('铋','Bì'),\",\n",
       " \"('壁橱','Bìchú'),\",\n",
       " \"('壁虎','Bìhǔ'),\",\n",
       " \"('壁炉','Bìlú'),\",\n",
       " \"('壁球','Bìqiú'),\",\n",
       " \"('壁毯','Bìtǎn'),\",\n",
       " \"('壁纸','Bìzhǐ'),\",\n",
       " \"('壁柱','Bì zhù'),\",\n",
       " \"('篦','Bì'),\",\n",
       " \"('避税港','Bìshuì gǎng'),\",\n",
       " \"('避孕套','Bìyùn tào'),\",\n",
       " \"('避震','Bì zhèn'),\",\n",
       " \"('臂膀','Bìbǎng'),\",\n",
       " \"('边际百分比','Biānjì bǎifēnbǐ'),\",\n",
       " \"('边际主义','Biānjì zhǔyì'),\",\n",
       " \"('边界','Biānjiè'),\",\n",
       " \"('边界分隔符','Biānjiè fēngé fú'),\",\n",
       " \"('边境','Biānjìng'),\",\n",
       " \"('边距','Biān jù'),\",\n",
       " \"('边距参考线','Biān jù cānkǎo xiàn'),\",\n",
       " \"('边框','Biānkuāng'),\",\n",
       " \"('边音','Biān yīn'),\",\n",
       " \"('边缘传输服务器角色','Biānyuán chuánshū fúwùqì juésè'),\",\n",
       " \"('边缘订阅','Biānyuán dìngyuè'),\",\n",
       " \"('边缘订阅文件','Biānyuán dìngyuè wénjiàn'),\",\n",
       " \"('边缘服务器','Biānyuán fúwùqì'),\",\n",
       " \"('边缘系统','Biānyuán xìtǒng'),\",\n",
       " \"('编','Biān'),\",\n",
       " \"('编程语言','Biānchéng yǔyán'),\",\n",
       " \"('编号列表','Biānhào lièbiǎo'),\",\n",
       " \"('编辑','Biānjí'),\",\n",
       " \"('编辑栏','Biānjí lán'),\",\n",
       " \"('编辑模式','Biānjí móshì'),\",\n",
       " \"('编辑器','Biānjí qì'),\",\n",
       " \"('编辑视图','Biānjí shìtú'),\",\n",
       " \"('编辑字段值列表','Biānjí zìduàn zhí lièbiǎo'),\",\n",
       " \"('编解码器','Biān jiěmǎ qì'),\",\n",
       " \"('编码','Biānmǎ'),\",\n",
       " \"('编年体','Biānniántǐ'),\",\n",
       " \"('编译','Biānyì'),\",\n",
       " \"('编织','Biānzhī'),\",\n",
       " \"('编程语言','Biānchéng yǔyán'),\",\n",
       " \"('编号清单','Biānhào qīngdān'),\",\n",
       " \"('编辑','Biānjí'),\",\n",
       " \"('编辑检视','Biānjí jiǎnshì'),\",\n",
       " \"('编辑栏位值清单','Biānjí lán wèi zhí qīngdān'),\",\n",
       " \"('编剧','Biānjù'),\",\n",
       " \"('编目帐户','Biānmù zhànghù'),\",\n",
       " \"('编舞','Biān wǔ'),\",\n",
       " \"('编译的二进位档案','Biānyì de èr jìnwèi dǎng'àn'),\",\n",
       " \"('编译器','Biānyì qì'),\",\n",
       " \"('编织','Biānzhī'),\",\n",
       " \"('蝙蝠','Biānfú'),\",\n",
       " \"('边防人员','Biānfáng rényuán'),\",\n",
       " \"('边界','Biānjiè'),\",\n",
       " \"('边界辅助线','Biānjiè fǔzhù xiàn'),\",\n",
       " \"('鞭','Biān'),\",\n",
       " \"('鞭子','Biānzi'),\",\n",
       " \"('扁平足','Biǎnpíngzú'),\",\n",
       " \"('扁鲹','Biǎn shēn'),\",\n",
       " \"('扁桃体炎','Biǎntáotǐ yán'),\",\n",
       " \"('扁桃腺','Biǎntáo xiàn'),\",\n",
       " \"('贬义','Biǎnyì'),\",\n",
       " \"('卞氏图表','Biàn shì túbiǎo'),\",\n",
       " \"('变暗的','Biàn àn de'),\",\n",
       " \"('变得更好','Biàn dé gèng hǎo'),\",\n",
       " \"('变分法','Biàn fēn fǎ'),\",\n",
       " \"('变分原理','Biàn fēn yuánlǐ'),\",\n",
       " \"('变格','Biàn gé'),\",\n",
       " \"('变更传播','Biàngēng chuánbò'),\",\n",
       " \"('变更单位','Biàngēng dānwèi'),\",\n",
       " \"('变流技术','Biàn liú jìshù'),\",\n",
       " \"('变速器','Biànsùqì'),\",\n",
       " \"('变态','Biàntài'),\",\n",
       " \"('变体标签','Biàn tǐ biāoqiān'),\",\n",
       " \"('变压器','Biànyāqì'),\",\n",
       " \"('变质岩','Biànzhí yán'),\",\n",
       " \"('便捷键','Biànjié jiàn'),\",\n",
       " \"('便秘','Biànmì'),\",\n",
       " \"('便所','Biànsuǒ'),\",\n",
       " \"('便携计算机','Biànxié jìsuànjī'),\",\n",
       " \"('便携媒体播放器','Biànxié méitǐ bòfàng qì'),\",\n",
       " \"('便携式计算机','Biànxiéshì jìsuànjī'),\",\n",
       " \"('便宜','Piányí'),\",\n",
       " \"('遍地','Biàndì'),\",\n",
       " \"('辨别名称','Biànbié míngchēng'),\",\n",
       " \"('辩论','Biànlùn'),\",\n",
       " \"('辩证法','Biànzhèngfǎ'),\",\n",
       " \"('辩证唯物主义','Biànzhèng wéiwù zhǔyì'),\",\n",
       " \"('辫子','Biànzi'),\",\n",
       " \"('变暗','Biàn àn'),\",\n",
       " \"('变更','Biàngēng'),\",\n",
       " \"('变更字型...','Biàngēng zì xíng...'),\",\n",
       " \"('变化标籤','Biànhuà biāo qiān'),\",\n",
       " \"('变容二极体','Biàn róng èr jí tǐ'),\",\n",
       " \"('变色龙','Biànsèlóng'),\",\n",
       " \"('变数','Biànshù'),\",\n",
       " \"('变数储存格','Biànshù chúcún gé'),\",\n",
       " \"('变态','Biàntài'),\",\n",
       " \"('变温动物','Biànwēn dòngwù'),\",\n",
       " \"('变星','Biànxīng'),\",\n",
       " \"('变形虫','Biànxíng chóng'),\",\n",
       " \"('变异数','Biànyì shù'),\",\n",
       " \"('变音符号','Biàn yīn fúhào'),\",\n",
       " \"('变质岩','Biànzhí yán'),\",\n",
       " \"('变质作用','Biànzhí zuòyòng'),\",\n",
       " \"('标尺','Biāochǐ'),\",\n",
       " \"('标尺参考线','Biāochǐ cānkǎo xiàn'),\",\n",
       " \"('标尺原点','Biāochǐ yuándiǎn'),\",\n",
       " \"('标点符号','Biāodiǎn fúhào'),\",\n",
       " \"('标记','Biāojì'),\",\n",
       " \"('标记笔记','Biāojì bǐjì'),\",\n",
       " \"('标记的层次结构','Biāojì de céngcì jiégòu'),\",\n",
       " \"('标记检查器树状图','Biāojì jiǎnchá qì shù zhuàng tú'),\",\n",
       " \"('标记树','Biāojì shù'),\",\n",
       " \"('标记为上线通知','Biāojì wéi shàngxiàn tōngzhī'),\",\n",
       " \"('标记为已读','Biāojì wéi yǐ dú'),\",\n",
       " \"('标量','Biāoliàng'),\",\n",
       " \"('标量场','Biāoliàng chǎng'),\",\n",
       " \"('标签','Biāoqiān'),\",\n",
       " \"('标签云','Biāoqiān yún'),\",\n",
       " \"('标识','Biāozhì'),\",\n",
       " \"('标识符','Biāozhì fú'),\",\n",
       " \"('标题节','Biāotí jié'),\",\n",
       " \"('标题栏','Biāotí lán'),\",\n",
       " \"('标题区域','Biāotí qūyù'),\",\n",
       " \"('标题行','Biāotí xíng'),\",\n",
       " \"('标头','Biāo tóu'),\",\n",
       " \"('标志','Biāozhì'),\",\n",
       " \"('标准','Biāozhǔn'),\",\n",
       " \"('标准大气压','Biāozhǔn dàqìyā'),\",\n",
       " \"('标准工具栏','Biāozhǔn gōngjù lán'),\",\n",
       " \"('标准化','Biāozhǔnhuà'),\",\n",
       " \"('标准键盘','Biāozhǔn jiànpán'),\",\n",
       " \"('标准模块','Biāozhǔn mókuài'),\",\n",
       " \"('标准摩尔生成焓','Biāozhǔn mó'ěr shēngchéng hán'),\",\n",
       " \"('标准偏差','Biāozhǔn piānchā'),\",\n",
       " \"('标准行业分类编码','Biāozhǔn hángyè fēnlèi biānmǎ'),\",\n",
       " \"('标准帐户','Biāozhǔn zhànghù'),\",\n",
       " \"('标准状况','Biāozhǔn zhuàngkuàng'),\",\n",
       " \"('标准字体','Biāozhǔn zìtǐ'),\",\n",
       " \"('标籤','Biāo qiān'),\",\n",
       " \"('标籤阶层图','Biāo qiān jiēcéng tú'),\",\n",
       " \"('标籤树状结构检查','Biāo qiān shù zhuàng jiégòu jiǎnchá'),\",\n",
       " \"('标籤侦测器树状图','Biāo qiān zhēn cè qì shù zhuàng tú'),\",\n",
       " \"('标示读取','Biāoshì dòu qǔ'),\",\n",
       " \"('标示为完稿','Biāoshì wèi wángǎo'),\",\n",
       " \"('标识符','Biāozhì fú'),\",\n",
       " \"('标题','Biāotí'),\",\n",
       " \"('标题矩阵图','Biāotí jǔzhèn tú'),\",\n",
       " \"('标题列','Biāotí liè'),\",\n",
       " \"('标题区','Biāotí qū'),\",\n",
       " \"('标题区段','Biāotí qū duàn'),\",\n",
       " \"('标志','Biāozhì'),\",\n",
       " \"('标准差','Biāozhǔn chā'),\",\n",
       " \"('标准产业分类码','Biāozhǔn chǎnyè fēnlèi mǎ'),\",\n",
       " \"('标准工具列','Biāozhǔn gōngjù liè'),\",\n",
       " \"('标准模组','Biāozhǔn mó zǔ'),\",\n",
       " \"('标准字型','Biāozhǔn zì xíng'),\",\n",
       " \"('表','Biǎo'),\",\n",
       " \"('表层次结构','Biǎo céngcì jiégòu'),\",\n",
       " \"('表达式','Biǎodá shì'),\",\n",
       " \"('表达式框','Biǎodá shì kuāng'),\",\n",
       " \"('表达式生成器','Biǎodá shì shēngchéng qì'),\",\n",
       " \"('表单','Biǎodān'),\",\n",
       " \"('表单编辑器','Biǎodān biānjí qì'),\",\n",
       " \"('表单定义文件','Biǎodān dìngyì wénjiàn'),\",\n",
       " \"('表单库','Biǎodān kù'),\",\n",
       " \"('表单名称','Biǎodān míngchēng'),\",\n",
       " \"('表单模板','Biǎodān múbǎn'),\",\n",
       " \"('表单模板库','Biǎodān múbǎn kù'),\",\n",
       " \"('表单模板文件','Biǎodān múbǎn wénjiàn'),\",\n",
       " \"('表单文件','Biǎodān wénjiàn'),\",\n",
       " \"('表单域','Biǎodān yù'),\",\n",
       " \"('表单档案','Biǎodān dǎng'àn'),\",\n",
       " \"('表单定义档','Biǎodān dìngyì dàng'),\",\n",
       " \"('表单范本','Biǎodān fànběn'),\",\n",
       " ...]"
      ]
     },
     "execution_count": 141,
     "metadata": {},
     "output_type": "execute_result"
    }
   ],
   "source": [
    "lines"
   ]
  },
  {
   "cell_type": "code",
   "execution_count": 142,
   "metadata": {},
   "outputs": [
    {
     "data": {
      "text/plain": [
       "\"('编辑菜单','B\""
      ]
     },
     "execution_count": 142,
     "metadata": {},
     "output_type": "execute_result"
    }
   ],
   "source": [
    "f=open(path)\n",
    "f.read(10)"
   ]
  },
  {
   "cell_type": "code",
   "execution_count": 143,
   "metadata": {},
   "outputs": [],
   "source": [
    "f2=open(path,'rb')"
   ]
  },
  {
   "cell_type": "code",
   "execution_count": 147,
   "metadata": {},
   "outputs": [
    {
     "data": {
      "text/plain": [
       "b'\\xaa c\\xa8\\xa4id\\xa8\\xa1n'"
      ]
     },
     "execution_count": 147,
     "metadata": {},
     "output_type": "execute_result"
    }
   ],
   "source": [
    "f2.read(10)"
   ]
  },
  {
   "cell_type": "code",
   "execution_count": 148,
   "metadata": {},
   "outputs": [
    {
     "data": {
      "text/plain": [
       "14"
      ]
     },
     "execution_count": 148,
     "metadata": {},
     "output_type": "execute_result"
    }
   ],
   "source": [
    "f.tell()"
   ]
  },
  {
   "cell_type": "code",
   "execution_count": 149,
   "metadata": {},
   "outputs": [
    {
     "data": {
      "text/plain": [
       "30"
      ]
     },
     "execution_count": 149,
     "metadata": {},
     "output_type": "execute_result"
    }
   ],
   "source": [
    "f2.tell() #返回文件的当前位置"
   ]
  },
  {
   "cell_type": "code",
   "execution_count": 151,
   "metadata": {},
   "outputs": [
    {
     "data": {
      "text/plain": [
       "'utf-8'"
      ]
     },
     "execution_count": 151,
     "metadata": {},
     "output_type": "execute_result"
    }
   ],
   "source": [
    "import sys\n",
    "sys.getdefaultencoding()"
   ]
  },
  {
   "cell_type": "code",
   "execution_count": 152,
   "metadata": {},
   "outputs": [
    {
     "data": {
      "text/plain": [
       "3"
      ]
     },
     "execution_count": 152,
     "metadata": {},
     "output_type": "execute_result"
    }
   ],
   "source": [
    "f.seek(3)"
   ]
  },
  {
   "cell_type": "code",
   "execution_count": 154,
   "metadata": {
    "scrolled": true
   },
   "outputs": [
    {
     "ename": "UnicodeDecodeError",
     "evalue": "'gbk' codec can't decode byte 0xfc in position 0: illegal multibyte sequence",
     "output_type": "error",
     "traceback": [
      "\u001b[1;31m---------------------------------------------------------------------------\u001b[0m",
      "\u001b[1;31mUnicodeDecodeError\u001b[0m                        Traceback (most recent call last)",
      "\u001b[1;32m<ipython-input-154-4b0ed2a6c2eb>\u001b[0m in \u001b[0;36m<module>\u001b[1;34m()\u001b[0m\n\u001b[1;32m----> 1\u001b[1;33m \u001b[0mf\u001b[0m\u001b[1;33m.\u001b[0m\u001b[0mread\u001b[0m\u001b[1;33m(\u001b[0m\u001b[1;36m10\u001b[0m\u001b[1;33m)\u001b[0m\u001b[1;33m\u001b[0m\u001b[0m\n\u001b[0m",
      "\u001b[1;31mUnicodeDecodeError\u001b[0m: 'gbk' codec can't decode byte 0xfc in position 0: illegal multibyte sequence"
     ]
    }
   ],
   "source": [
    "f.read(10)"
   ]
  },
  {
   "cell_type": "code",
   "execution_count": 155,
   "metadata": {},
   "outputs": [],
   "source": [
    "with open('tmp.txt','w') as handle:\n",
    "    handle.writelines(x for x in open(path) if len(x)>1)"
   ]
  },
  {
   "cell_type": "code",
   "execution_count": 156,
   "metadata": {},
   "outputs": [
    {
     "data": {
      "text/plain": [
       "[\"('编辑菜单','Biānjí càidān'),\\n\",\n",
       " \"('关系窗口','Guānxì chuāngkǒu'),\\n\",\n",
       " \"('文件菜单','Wénjiàn càidān'),\\n\",\n",
       " \"('[编辑] 功能表','[Biānjí] gōngnéng biǎo'),\\n\",\n",
       " \"('[不在办公室] 讯息','[Bùzài bàngōngshì] xùnxí'),\\n\",\n",
       " \"('[档案] 功能表','[Dǎng'àn] gōngnéng biǎo'),\\n\",\n",
       " \"('[简易筛选] 索引标籤','[Jiǎnyì shāixuǎn] suǒyǐn biāo qiān'),\\n\",\n",
       " \"('[进阶筛选] 索引标籤','[Jìn jiē shāixuǎn] suǒyǐn biāo qiān'),\\n\",\n",
       " \"('[开始] 功能表','[Kāishǐ] gōngnéng biǎo'),\\n\",\n",
       " \"('[删除的邮件] 资料夹','[Shānchú de yóujiàn] zīliào jiā'),\\n\",\n",
       " \"('[商务工具] 功能表','[Shāngwù gōngjù] gōngnéng biǎo'),\\n\",\n",
       " \"('[商务历程记录] 资料夹','[Shāngwù lìchéng jìlù] zīliào jiā'),\\n\",\n",
       " \"('[收件匣] 资料夹','[Shōu jiàn xiá] zīliào jiā'),\\n\",\n",
       " \"('「工作阶段初始通讯协定」主干连线','`Gōngzuò jiēduàn chūshǐ tōngxùn xiédìng'zhǔ gān lián xiàn'),\\n\",\n",
       " \"('@ 记号','@ Jìhào'),\\n\",\n",
       " \"('>形箭号清单','>Xíng jiàn hào qīngdān'),\\n\",\n",
       " \"('1,2-二氯乙烷','1,2-èr lǜ yǐ wán'),\\n\",\n",
       " \"('100% 堆叠横条图','100% Duīdié héng tiáo tú'),\\n\",\n",
       " \"('100% 堆叠直条图','100% Duīdié zhí tiáo tú'),\\n\",\n",
       " \"('10月','10 Yuè'),\\n\",\n",
       " \"('11月','11 Yuè'),\\n\",\n",
       " \"('12月','12 Yuè'),\\n\",\n",
       " \"('1月','1 Yuè'),\\n\",\n",
       " \"('2-氯苯乙酮','2-Lù běn yǐ tóng'),\\n\",\n",
       " \"('2006年世界杯足球赛','2006 Nián shìjièbēi zúqiú sài'),\\n\",\n",
       " \"('2月','2 Yuè'),\\n\",\n",
       " \"('32 位机器','32 Wèi jīqì'),\\n\",\n",
       " \"('32 位元电脑','32 Wèi yuán diànnǎo'),\\n\",\n",
       " \"('3月','3 Yuè'),\\n\",\n",
       " \"('3D眼镜','3D yǎnjìng'),\\n\",\n",
       " \"('4-氨基水杨酸','4-ānjī shuǐ yáng suān'),\\n\",\n",
       " \"('4月','4 Yuè'),\\n\",\n",
       " \"('5月','5 Yuè'),\\n\",\n",
       " \"('6月','6 Yuè'),\\n\",\n",
       " \"('7月','7 Yuè'),\\n\",\n",
       " \"('8 位元色彩','8 Wèi yuán sècǎi'),\\n\",\n",
       " \"('8位彩色','8 Wèi cǎisè'),\\n\",\n",
       " \"('8月','8 Yuè'),\\n\",\n",
       " \"('9月','9 Yuè'),\\n\",\n",
       " \"('阿比西尼亚猫','ā bǐ xī ní yǎ māo'),\\n\",\n",
       " \"('阿波罗绢蝶','ābō luó juàn dié'),\\n\",\n",
       " \"('阿卜杜拉','ā bo dù lā'),\\n\",\n",
       " \"('阿卜杜拉二世','ā bo dù lā èr shì'),\\n\",\n",
       " \"('阿布哈兹','ābù hā zī'),\\n\",\n",
       " \"('阿布贾','ābù jiǎ'),\\n\",\n",
       " \"('阿布贾德数字','ābù jiǎ dé shùzì'),\\n\",\n",
       " \"('阿布扎比','ābù zhá bǐ'),\\n\",\n",
       " \"('阿道夫·希特勒','ādàofū·xītèlēi'),\\n\",\n",
       " \"('阿迪格','ādí gé'),\\n\",\n",
       " \"('阿多尼斯','ā duō nísī'),\\n\",\n",
       " \"('阿尔·戈尔','ā'ěr·gē ěr'),\\n\",\n",
       " \"('阿尔巴尼亚','ā'ěrbāníyǎ'),\\n\",\n",
       " \"('阿尔巴尼亚人','ā'ěrbāníyǎ rén'),\\n\",\n",
       " \"('阿尔巴尼亚文','ā'ěrbāníyǎ wén'),\\n\",\n",
       " \"('阿尔巴尼亚语','ā'ěrbāníyǎ yǔ'),\\n\",\n",
       " \"('阿尔卑斯山','ā'ěrbēisī shān'),\\n\",\n",
       " \"('阿尔蒂普拉诺高原','ā'ěr dì pǔ lā nuò gāoyuán'),\\n\",\n",
       " \"('阿尔及尔','ā'ěr jí ěr'),\\n\",\n",
       " \"('阿尔及利亚','ā'ěrjílìyǎ'),\\n\",\n",
       " \"('阿尔萨斯','ā'ěr sà sī'),\\n\",\n",
       " \"('阿尔泰','ā'ěrtài'),\\n\",\n",
       " \"('阿尔泰共和国','ā'ěrtài gònghéguó'),\\n\",\n",
       " \"('阿尔及利亚','ā'ěrjílìyǎ'),\\n\",\n",
       " \"('阿非利加','āfēilìjiā'),\\n\",\n",
       " \"('阿非利卡语','ā fēi lì kǎ yǔ'),\\n\",\n",
       " \"('阿非利堪斯语','ā fēi lì kān sī yǔ'),\\n\",\n",
       " \"('阿伏伽德罗定律','ā fú jiā dé luó dìnglǜ'),\\n\",\n",
       " \"('阿佛洛狄忒','ā fó luò dí tè'),\\n\",\n",
       " \"('阿富汗','āfùhàn'),\\n\",\n",
       " \"('阿哥拉','ā gē lā'),\\n\",\n",
       " \"('阿根廷','āgēntíng'),\\n\",\n",
       " \"('阿赫马德·阿萨维','ā hè mǎ dé·ā sà wéi'),\\n\",\n",
       " \"('阿訇','āhōng'),\\n\",\n",
       " \"('阿基米德','ā jī mǐ dé'),\\n\",\n",
       " \"('阿加迪尔','ā jiā dí ěr'),\\n\",\n",
       " \"('阿迦','ā jiā'),\\n\",\n",
       " \"('阿卡德语','ā kǎ déyǔ'),\\n\",\n",
       " \"('阿克莫拉州','ā kè mò lā zhōu'),\\n\",\n",
       " \"('阿克塞哈萨克族自治县','ā kè sāi hāsàkè zú zìzhìxiàn'),\\n\",\n",
       " \"('阿克套','ā kè tào'),\\n\",\n",
       " \"('阿克托贝','ā kè tuō bèi'),\\n\",\n",
       " \"('阿克托贝州','ā kè tuō bèi zhōu'),\\n\",\n",
       " \"('阿肯','ā kěn'),\\n\",\n",
       " \"('阿拉','ālā'),\\n\",\n",
       " \"('阿拉伯','ālābó'),\\n\",\n",
       " \"('阿拉伯埃及共和国','ālābó āijí gònghéguó'),\\n\",\n",
       " \"('阿拉伯半岛','ālābó bàndǎo'),\\n\",\n",
       " \"('阿拉伯帝国','ālābó dìguó'),\\n\",\n",
       " \"('阿拉伯狒狒','ālābó fèifèi'),\\n\",\n",
       " \"('阿拉伯胶','ālābó jiāo'),\\n\",\n",
       " \"('阿拉伯联合酋长国','ālābó liánhé qiúzhǎngguó'),\\n\",\n",
       " \"('阿拉伯式花纹','ālābó shì huāwén'),\\n\",\n",
       " \"('阿拉伯糖','ālābó táng'),\\n\",\n",
       " \"('阿拉伯头巾','ālābó tóujīn'),\\n\",\n",
       " \"('阿拉伯文','ālābó wén'),\\n\",\n",
       " \"('阿拉伯语','ālābó yǔ'),\\n\",\n",
       " \"('阿拉伯字母','ālābó zìmǔ'),\\n\",\n",
       " \"('阿拉木图','ālā mù tú'),\\n\",\n",
       " \"('阿拉木图州','ālā mù tú zhōu'),\\n\",\n",
       " \"('阿拉斯加州','ālāsījiā zhōu'),\\n\",\n",
       " \"('阿里乌教派','ālǐ wū jiàopài'),\\n\",\n",
       " \"('阿联酋','āliánqiú'),\\n\",\n",
       " \"('阿联酋长国','ā lián qiúzhǎngguó'),\\n\",\n",
       " \"('阿鲁巴','ā lǔ bā'),\\n\",\n",
       " \"('阿曼','āmàn'),\\n\",\n",
       " \"('阿门','āmén'),\\n\",\n",
       " \"('阿们','āmen'),\\n\",\n",
       " \"('阿米巴痢疾','ā mǐ bā lìjí'),\\n\",\n",
       " \"('阿姆河','ā mǔ hé'),\\n\",\n",
       " \"('阿姆斯特丹','āmǔsītèdān'),\\n\",\n",
       " \"('阿皮亚','ā pí yà'),\\n\",\n",
       " \"('阿片','āpiàn'),\\n\",\n",
       " \"('阿奇霉素','āqíméisù'),\\n\",\n",
       " \"('阿塞拜疆','āsèbàijiāng'),\\n\",\n",
       " \"('阿塞拜疆人','āsèbàijiāng rén'),\\n\",\n",
       " \"('阿森松岛','āsēn sōng dǎo'),\\n\",\n",
       " \"('阿谁','ā shéi'),\\n\",\n",
       " \"('阿什哈巴德','ā shén hǎbā dé'),\\n\",\n",
       " \"('阿史那','ā shǐ nà'),\\n\",\n",
       " \"('阿司匹林','āsīpīlín'),\\n\",\n",
       " \"('阿斯塔纳','ā sī tǎ nà'),\\n\",\n",
       " \"('阿斯特拉罕','ā sī tè lā hǎn'),\\n\",\n",
       " \"('阿斯特拉罕州','ā sī tè lā hǎn zhōu'),\\n\",\n",
       " \"('阿特劳','ā tè láo'),\\n\",\n",
       " \"('阿提卡式底座','ā tí kǎ shì dǐzuò'),\\n\",\n",
       " \"('阿提拉','ā tí lā'),\\n\",\n",
       " \"('阿托','ā tuō'),\\n\",\n",
       " \"('阿魏','ā wèi'),\\n\",\n",
       " \"('阿兄','ā xiōng'),\\n\",\n",
       " \"('阿亚图拉','ā yà tú lā'),\\n\",\n",
       " \"('阿亚','ā yà'),\\n\",\n",
       " \"('阿姨','āyí'),\\n\",\n",
       " \"('锕','ā'),\\n\",\n",
       " \"('锕系元素','ā xì yuánsù'),\\n\",\n",
       " \"('啊','A'),\\n\",\n",
       " \"('哀伤','āishāng'),\\n\",\n",
       " \"('埃尔祖鲁姆','āi ěr zǔ lǔ mǔ'),\\n\",\n",
       " \"('埃癸斯','āi guǐ sī'),\\n\",\n",
       " \"('埃及','āijí'),\\n\",\n",
       " \"('埃及学','āijí xué'),\\n\",\n",
       " \"('埃里温','āi lǐ wēn'),\\n\",\n",
       " \"('埃米尔','āi mǐ'ěr'),\\n\",\n",
       " \"('埃塞俄比亚','āisāi'ébǐyǎ'),\\n\",\n",
       " \"('埃森','āi sēn'),\\n\",\n",
       " \"('埃斯基尔斯蒂纳','āi sī jī ěr sī dì nà'),\\n\",\n",
       " \"('埃斯库罗斯','āi sī kù luósī'),\\n\",\n",
       " \"('锿','āi'),\\n\",\n",
       " \"('嗳','āi'),\\n\",\n",
       " \"('癌症','áizhèng'),\\n\",\n",
       " \"('矮','ǎi'),\\n\",\n",
       " \"('矮种马','ǎi zhǒng mǎ'),\\n\",\n",
       " \"('艾卜哈','ài bo hā'),\\n\",\n",
       " \"('艾尔顿·约翰','ài ěr dùn·yuēhàn'),\\n\",\n",
       " \"('艾尔玛善镇','ài ěr mǎ shàn zhèn'),\\n\",\n",
       " \"('艾可萨','ài kě sà'),\\n\",\n",
       " \"('艾滋病','àizībìng'),\\n\",\n",
       " \"('爱','ài'),\\n\",\n",
       " \"('爱达荷州','ài dá hé zhōu'),\\n\",\n",
       " \"('爱戴','àidài'),\\n\",\n",
       " \"('爱尔兰','ài'ěrlán'),\\n\",\n",
       " \"('爱尔兰共和国','ài'ěrlán gònghéguó'),\\n\",\n",
       " \"('爱好','àihào'),\\n\",\n",
       " \"('爱好者','àihào zhě'),\\n\",\n",
       " \"('爱兰','ài lán'),\\n\",\n",
       " \"('爱情','àiqíng'),\\n\",\n",
       " \"('爱人','àirén'),\\n\",\n",
       " \"('爱沙尼亚','àishāníyǎ'),\\n\",\n",
       " \"('爱上','ài shàng'),\\n\",\n",
       " \"('砹','ài'),\\n\",\n",
       " \"('爱国主义','àiguó zhǔyì'),\\n\",\n",
       " \"('安道尔','āndào ěr'),\\n\",\n",
       " \"('安道尔城','āndào ěr chéng'),\\n\",\n",
       " \"('安道尔共和国','āndào ěr gònghéguó'),\\n\",\n",
       " \"('安的列斯群岛','ān dì liè sī qúndǎo'),\\n\",\n",
       " \"('安哥拉','āngēlā'),\\n\",\n",
       " \"('安圭拉','ān guī lā'),\\n\",\n",
       " \"('安静','ānjìng'),\\n\",\n",
       " \"('安卡拉','ānkǎlā'),\\n\",\n",
       " \"('安拉','ān lā'),\\n\",\n",
       " \"('安拉至大','ān lā zhì dà'),\\n\",\n",
       " \"('安乐死','ānlèsǐ'),\\n\",\n",
       " \"('安曼','ānmàn'),\\n\",\n",
       " \"('安那托利亚','ān nàtuō lì yǎ'),\\n\",\n",
       " \"('安纳巴','ān nà bā'),\\n\",\n",
       " \"('安乃近','ān nǎi jìn'),\\n\",\n",
       " \"('安排会议','ānpái huìyì'),\\n\",\n",
       " \"('安培','ānpéi'),\\n\",\n",
       " \"('安培小时','ānpéi xiǎoshí'),\\n\",\n",
       " \"('安琪儿','ānqí'ér'),\\n\",\n",
       " \"('安全','ānquán'),\\n\",\n",
       " \"('安全边界网关','ānquán biānjiè wǎngguān'),\\n\",\n",
       " \"('安全标识符','ānquán biāozhì fú'),\\n\",\n",
       " \"('安全发件人列表','ānquán fā jiàn rén lièbiǎo'),\\n\",\n",
       " \"('安全阀','ānquán fá'),\\n\",\n",
       " \"('安全工程','ānquán gōngchéng'),\\n\",\n",
       " \"('安全记事','ānquán jìshì'),\\n\",\n",
       " \"('安全寄件者清单','ānquán jì jiàn zhě qīngdān'),\\n\",\n",
       " \"('安全角色','ānquán juésè'),\\n\",\n",
       " \"('安全列表集','ānquán lièbiǎo jí'),\\n\",\n",
       " \"('安全描述符','ānquán miáoshù fú'),\\n\",\n",
       " \"('安全模式','ānquán móshì'),\\n\",\n",
       " \"('安全配置向导','ānquán pèizhì xiàngdǎo'),\\n\",\n",
       " \"('安全清单集合','ānquán qīngdān jíhé'),\\n\",\n",
       " \"('安全收件人列表','ānquán shōu jiàn rén lièbiǎo'),\\n\",\n",
       " \"('安全收件者清单','ānquán shōu jiàn zhě qīngdān'),\\n\",\n",
       " \"('安全说明','ānquán shuōmíng'),\\n\",\n",
       " \"('安全套','ānquántào'),\\n\",\n",
       " \"('安全性','ānquán xìng'),\\n\",\n",
       " \"('安全性关键','ānquán xìng guānjiàn'),\\n\",\n",
       " \"('安全性界限闸道','ānquán xìng jièxiàn zhá dào'),\\n\",\n",
       " \"('安全性描述元','ānquán xìng miáoshù yuán'),\\n\",\n",
       " \"('安全性识别码','ānquán xìng shìbié mǎ'),\\n\",\n",
       " \"('安全性支援提供者介面','ānquán xìng zhīyuán tígōng zhě jièmiàn'),\\n\",\n",
       " \"('安全性主体','ānquán xìng zhǔtǐ'),\\n\",\n",
       " \"('安全支持提供程序接口','ānquán zhīchí tígōng chéngxù jiēkǒu'),\\n\",\n",
       " \"('安全主体','ānquán zhǔtǐ'),\\n\",\n",
       " \"('安山岩',''),\\n\",\n",
       " \"('安塔利亚','ān tǎ lì yǎ'),\\n\",\n",
       " \"('安提瓜和巴布达','ān tí guā hé bā bù dá'),\\n\",\n",
       " \"('安慰剂效应','ānwèi jì xiàoyìng'),\\n\",\n",
       " \"('安装','ānzhuāng'),\\n\",\n",
       " \"('安装程序','ānzhuāng chéngxù'),\\n\",\n",
       " \"('安装程式','ānzhuāng chéngshì'),\\n\",\n",
       " \"('桉树','ānshù'),\\n\",\n",
       " \"('氨','ān'),\\n\",\n",
       " \"('氨苄青霉素','ānbiàn qīngméisù'),\\n\",\n",
       " \"('氨基酸','ānjīsuān'),\\n\",\n",
       " \"('氨基糖','ānjī táng'),\\n\",\n",
       " \"('氨水','ānshuǐ'),\\n\",\n",
       " \"('鹌鹑','ānchún'),\\n\",\n",
       " \"('鞍','ān'),\\n\",\n",
       " \"('鹌鹑','ānchún'),\\n\",\n",
       " \"('铵','ǎn'),\\n\",\n",
       " \"('岸','àn'),\\n\",\n",
       " \"('按窗体筛选','àn chuāng tǐ shāixuǎn'),\\n\",\n",
       " \"('按键顺序','ànjiàn shùnxù'),\\n\",\n",
       " \"('按键','ànjiàn'),\\n\",\n",
       " \"('按键组合','ànjiàn zǔhé'),\\n\",\n",
       " \"('按揭','ànjiē'),\\n\",\n",
       " \"('按两下','àn liǎng xià'),\\n\",\n",
       " \"('按名字拨叫','àn míngzì bō jiào'),\\n\",\n",
       " \"('按摩','ànmó'),\\n\",\n",
       " \"('按摩棒','ànmó bàng'),\\n\",\n",
       " \"('按钮','ànniǔ'),\\n\",\n",
       " \"('按钮表面','ànniǔ biǎomiàn'),\\n\",\n",
       " \"('按需工作流','àn xū gōngzuò liú'),\\n\",\n",
       " \"('按选定内容排出筛选','àn xuǎn dìng nèiróng páichū shāixuǎn'),\\n\",\n",
       " \"('按选定内容筛选','àn xuǎn dìng nèiróng shāixuǎn'),\\n\",\n",
       " \"('按一下','àn yīxià'),\\n\",\n",
       " \"('按一下拨打','àn yīxià bōdǎ'),\\n\",\n",
       " \"('按一下滑鼠','àn yī xiàhuá shǔ'),\\n\",\n",
       " \"('按照法律的','ànzhào fǎlǜ de'),\\n\",\n",
       " \"('按住','àn zhù'),\\n\",\n",
       " \"('案例','ànlì'),\\n\",\n",
       " \"('案例解决','ànlì jiějué'),\\n\",\n",
       " \"('胺','àn'),\\n\",\n",
       " \"('暗','àn'),\\n\",\n",
       " \"('暗礁','ànjiāo'),\\n\",\n",
       " \"('暗色岩','ànsè yán'),\\n\",\n",
       " \"('暗杀','ànshā'),\\n\",\n",
       " \"('暗物质','ànwùzhí'),\\n\",\n",
       " \"('昂贵','ángguì'),\\n\",\n",
       " \"('凹版印刷','āobǎn yìnshuā'),\\n\",\n",
       " \"('凹槽 (建筑学)','āo cáo (jiànzhú xué)'),\\n\",\n",
       " \"('敖德萨','áo dé sà'),\\n\",\n",
       " \"('獒','áo'),\\n\",\n",
       " \"('奥','ào'),\\n\",\n",
       " \"('奥德','ào dé'),\\n\",\n",
       " \"('奥德赛','àodésài'),\\n\",\n",
       " \"('奥地利','àodìlì'),\\n\",\n",
       " \"('奥格斯堡','ào gé sī bǎo'),\\n\",\n",
       " \"('奥国','ào guó'),\\n\",\n",
       " \"('奥兰','ào lán'),\\n\",\n",
       " \"('奥林匹克','àolínpǐkè'),\\n\",\n",
       " \"('奥林匹克运动会','àolínpǐkè yùndònghuì'),\\n\",\n",
       " \"('奥伦堡','ào lún bǎo'),\\n\",\n",
       " \"('奥氏体','ào shì tǐ'),\\n\",\n",
       " \"('奥斯陆','àosīlù'),\\n\",\n",
       " \"('奥斯曼帝国','àosīmàn dìguó'),\\n\",\n",
       " \"('奥斯曼土耳其语','àosīmàn tǔ'ěrqí yǔ'),\\n\",\n",
       " \"('奥陶纪','ào táo jì'),\\n\",\n",
       " \"('奥运会','àoyùnhuì'),\\n\",\n",
       " \"('奥得河','ào dé hé'),\\n\",\n",
       " \"('奥地利','àodìlì'),\\n\",\n",
       " \"('奥斯曼帝国','àosīmàn dìguó'),\\n\",\n",
       " \"('奥维德','ào wéi dé'),\\n\",\n",
       " \"('澳大拉西亚','ào dà lā xī yà'),\\n\",\n",
       " \"('澳大利亚','àodàlìyǎ'),\\n\",\n",
       " \"('澳大利亚联邦','àodàlìyǎ liánbāng'),\\n\",\n",
       " \"('澳门','àomén'),\\n\",\n",
       " \"('澳洲','àozhōu'),\\n\",\n",
       " \"('澳洲魔蜥','àozhōu mó xī'),\\n\",\n",
       " \"('澳洲野犬','àozhōu yěquǎn'),\\n\",\n",
       " \"('八','Bā'),\\n\",\n",
       " \"('八十','Bāshí'),\\n\",\n",
       " \"('八月','Bā yuè'),\\n\",\n",
       " \"('八字胡','Bāzì hú'),\\n\",\n",
       " \"('巴巴多斯','Bābāduōsī'),\\n\",\n",
       " \"('巴卑尔','Bā bēi ěr'),\\n\",\n",
       " \"('巴贝多','Bā bèiduō'),\\n\",\n",
       " \"('巴比伦','Bābǐlún'),\\n\",\n",
       " \"('巴布亚纽几内亚','Bābùyǎ niǔ jǐnèiyǎ'),\\n\",\n",
       " \"('巴布亚皮钦语','Bābùyǎ pí qīn yǔ'),\\n\",\n",
       " \"('巴布亚新几内亚','Bābùyǎ xīn jǐnèiyǎ'),\\n\",\n",
       " \"('巴尔干半岛','Bā'ěrgàn bàndǎo'),\\n\",\n",
       " \"('巴甫洛达尔','Bā fǔ luò dá'ěr'),\\n\",\n",
       " \"('巴格达','Bāgédá'),\\n\",\n",
       " \"('巴哈马','Bāhāmǎ'),\\n\",\n",
       " \"('巴基斯坦','Bājīsītǎn'),\\n\",\n",
       " \"('巴基斯坦伊斯兰共和国','Bājīsītǎn yīsīlán gònghéguó'),\\n\",\n",
       " \"('巴库','Bā kù'),\\n\",\n",
       " \"('巴拉圭','Bālāguī'),\\n\",\n",
       " \"('巴拉莱卡琴','Bā lā láikǎ qín'),\\n\",\n",
       " \"('巴拉莱卡琴','Bā lā láikǎ qín'),\\n\",\n",
       " \"('巴拉瓦饼','Bā lā wǎ bǐng'),\\n\",\n",
       " \"('巴勒斯坦','Bālèsītǎn'),\\n\",\n",
       " \"('巴厘岛','Bālí dǎo'),\\n\",\n",
       " \"('巴黎','Bālí'),\\n\",\n",
       " \"('巴里坤哈萨克自治县','Bālǐ kūn hāsàkè zìzhìxiàn'),\\n\",\n",
       " \"('巴林','Bālín'),\\n\",\n",
       " \"('巴拿马','Bānámǎ'),\\n\",\n",
       " \"('巴拿马运河','Bānámǎ yùnhé'),\\n\",\n",
       " \"('巴拿马地峡','Bānámǎ dìxiá'),\\n\",\n",
       " \"('巴塞罗那','Bāsèluōnà'),\\n\",\n",
       " \"('巴刹','Bā shā'),\\n\",\n",
       " \"('巴什基尔语','Bā shén jī ěr yǔ'),\\n\",\n",
       " \"('巴什科尔托斯坦','Bā shén kē ěr tuō sītǎn'),\\n\",\n",
       " \"('巴什科尔托斯坦共和国','Bā shén kē ěr tuō sītǎn gònghéguó'),\\n\",\n",
       " \"('巴什利克帽','Bā shén lìkè mào'),\\n\",\n",
       " \"('巴士','Bāshì'),\\n\",\n",
       " \"('巴士车站','Bāshì chēzhàn'),\\n\",\n",
       " \"('巴士底狱','Bāshì dǐ yù'),\\n\",\n",
       " \"('巴士拉','Bāshìlā'),\\n\",\n",
       " \"('巴氏合金','Bā shì héjīn'),\\n\",\n",
       " \"('巴斯海峡','Bā sī hǎixiá'),\\n\",\n",
       " \"('巴斯克人','Bā sīkè rén'),\\n\",\n",
       " \"('巴斯玛奇','Bā sī mǎ qí'),\\n\",\n",
       " \"('巴西','Bāxī'),\\n\",\n",
       " \"('巴西利卡','Bāxī lì kǎ'),\\n\",\n",
       " \"('巴西利斯克','Bāxī lì sīkè'),\\n\",\n",
       " \"('巴仙','Bā xiān'),\\n\",\n",
       " \"('巴彦乌列盖省','Bā yàn wū liè gài shěng'),\\n\",\n",
       " \"('巴依','Bā yī'),\\n\",\n",
       " \"('巴扎','Bā zhā'),\\n\",\n",
       " \"('芭蕾舞','Bālěiwǔ'),\\n\",\n",
       " \"('芭蕾舞者','Bālěiwǔ zhě'),\\n\",\n",
       " \"('捌','Bā'),\\n\",\n",
       " \"('拔河','Báhé'),\\n\",\n",
       " \"('拔牙术','Báyá shù'),\\n\",\n",
       " \"('把','Bǎ'),\\n\",\n",
       " \"('钯','Bǎ'),\\n\",\n",
       " \"('靶恩','Bǎ ēn'),\\n\",\n",
       " \"('靶心图表','Bǎxīn túbiǎo'),\\n\",\n",
       " \"('靶心图清单','Bǎxīn tú qīngdān'),\\n\",\n",
       " \"('坝','Bà'),\\n\",\n",
       " \"('爸爸','Bàba'),\\n\",\n",
       " \"('爸妈','Bà mā'),\\n\",\n",
       " \"('罢工','Bàgōng'),\\n\",\n",
       " \"('耙','Bà'),\\n\",\n",
       " \"('耙梳','Bà shū'),\\n\",\n",
       " \"('耙子','Bàzi'),\\n\",\n",
       " \"('罢工','Bàgōng'),\\n\",\n",
       " \"('霸权主义','Bàquán zhǔyì'),\\n\",\n",
       " \"('白','Bái'),\\n\",\n",
       " \"('白矮星','Bái'ǎixīng'),\\n\",\n",
       " \"('白北鲑','Bái běi guī'),\\n\",\n",
       " \"('白背矶鸫','Bái bèi jī dōng'),\\n\",\n",
       " \"('白菜卷','Báicài juǎn'),\\n\",\n",
       " \"('白痴','Báichī'),\\n\",\n",
       " \"('白翅拟蜡嘴雀','Bái chì nǐ là zuǐ què'),\\n\",\n",
       " \"('白炽灯泡','Báichì dēngpào'),\\n\",\n",
       " \"('白蛋白','Bái dànbái'),\\n\",\n",
       " \"('白的','Bái de'),\\n\",\n",
       " \"('白癜风','Báidiànfēng'),\\n\",\n",
       " \"('白洞','Bái dòng'),\\n\",\n",
       " \"('白俄国','Bái è guó'),\\n\",\n",
       " \"('白俄罗斯','Bái'èluósī'),\\n\",\n",
       " \"('白俄罗斯文','Bái'èluósī wén'),\\n\",\n",
       " \"('白俄罗斯语','Bái'èluósī yǔ'),\\n\",\n",
       " \"('白俄罗斯语','Bái'èluósī yǔ'),\\n\",\n",
       " \"('白垩纪','Bái'è jì'),\\n\",\n",
       " \"('白垩岩','Bái'è yán'),\\n\",\n",
       " \"('白粉病','Báifěn bìng'),\\n\",\n",
       " \"('白干酪','Bái gānlào'),\\n\",\n",
       " \"('白宫','Báigōng'),\\n\",\n",
       " \"('白海','Bái hǎi'),\\n\",\n",
       " \"('白喉','Báihóu'),\\n\",\n",
       " \"('白化症','Báihuà zhèng'),\\n\",\n",
       " \"('白鱀豚','Bái jì tún'),\\n\",\n",
       " \"('白金','Báijīn'),\\n\",\n",
       " \"('白鲸','Bái jīng'),\\n\",\n",
       " \"('白酒','Báijiǔ'),\\n\",\n",
       " \"('白令海','Báilìnghǎi'),\\n\",\n",
       " \"('白榴石','Bái liú shí'),\\n\",\n",
       " \"('白眉歌鸫','Báiméi gē dōng'),\\n\",\n",
       " \"('白目','Báimù'),\\n\",\n",
       " \"('白内障','Báinèizhàng'),\\n\",\n",
       " \"('白砒','Bái pī'),\\n\",\n",
       " \"('白葡萄酒','Bái pútáojiǔ'),\\n\",\n",
       " \"('白铅矿','Bái qiān kuàng'),\\n\",\n",
       " \"('白人','Báirén'),\\n\",\n",
       " \"('白日梦','Bái rì mèng'),\\n\",\n",
       " \"('白软干酪','Bái ruǎn gānlào'),\\n\",\n",
       " \"('白色','Báisè'),\\n\",\n",
       " \"('白色垃圾','Báisè lèsè'),\\n\",\n",
       " \"('白天','Báitiān'),\\n\",\n",
       " \"('白铁矿','Bái tiě kuàng'),\\n\",\n",
       " \"('白厅','Bái tīng'),\\n\",\n",
       " \"('白铜','Báitóng'),\\n\",\n",
       " \"('白头鹀','Báitóu wú'),\\n\",\n",
       " \"('白兔','Bái tù'),\\n\",\n",
       " \"('白脱','Bái tuō'),\\n\",\n",
       " \"('白尾海雕','Báiwěi hǎi diāo'),\\n\",\n",
       " \"('白钨矿','Bái wū kuàng'),\\n\",\n",
       " \"('白细胞减少症','Báixìbāo jiǎnshǎo zhèng'),\\n\",\n",
       " \"('白熊','Báixióng'),\\n\",\n",
       " \"('白雪','Báixuě'),\\n\",\n",
       " \"('白血病','Báixiěbìng'),\\n\",\n",
       " \"('白血球','Báixiěqiú'),\\n\",\n",
       " \"('白羊座','Báiyángzuò'),\\n\",\n",
       " \"('白鼬','Bái yòu'),\\n\",\n",
       " \"('白云石','Báiyún shí'),\\n\",\n",
       " \"('白云母','Báiyún mǔ'),\\n\",\n",
       " \"('白帐汗国','Bái zhàng hàn guó'),\\n\",\n",
       " \"('白昼','Báizhòu'),\\n\",\n",
       " \"('百','Bǎi'),\\n\",\n",
       " \"('百分比','Bǎifēnbǐ'),\\n\",\n",
       " \"('百分比堆积条形图','Bǎifēnbǐ duījī tiáo xíng tú'),\\n\",\n",
       " \"('百分比堆积柱形图','Bǎifēnbǐ duījī zhù xíng tú'),\\n\",\n",
       " \"('百分比符号','Bǎifēnbǐ fúhào'),\\n\",\n",
       " \"('百分号','Bǎi fēn hào'),\\n\",\n",
       " \"('百分之','Bǎi fēn zhī'),\\n\",\n",
       " \"('百合','Bǎihé'),\\n\",\n",
       " \"('百合花','Bǎihé huā'),\\n\",\n",
       " \"('百科全书','Bǎikē quánshū'),\\n\",\n",
       " \"('百科事典','Bǎikē shìdiǎn'),\\n\",\n",
       " \"('百灵科','Bǎilíng kē'),\\n\",\n",
       " \"('百慕大','Bǎimùdà'),\\n\",\n",
       " \"('百日咳','Bǎirìké'),\\n\",\n",
       " \"('百万','Bǎi wàn'),\\n\",\n",
       " \"('百万富翁','Bǎi wàn fùwēng'),\\n\",\n",
       " \"('百叶窗','Bǎiyèchuāng'),\\n\",\n",
       " \"('百叶帘','Bǎiyè lián'),\\n\",\n",
       " \"('柏拉图','Bólātú'),\\n\",\n",
       " \"('柏林','Bólín'),\\n\",\n",
       " \"('柏林Bólín)','Bólín Bólín)'),\\n\",\n",
       " \"('摆','Bǎi'),\\n\",\n",
       " \"('拜巴尔一世','Bài bā'ěr yīshì'),\\n\",\n",
       " \"('拜拜','Bàibài'),\\n\",\n",
       " \"('拜科努尔','Bài kē nǔ ěr'),\\n\",\n",
       " \"('拜托','Bàituō'),\\n\",\n",
       " \"('拜物教','Bàiwùjiào'),\\n\",\n",
       " \"('拜占庭帝国','Bàizhàntíng dìguó'),\\n\",\n",
       " \"('拜占庭学','Bàizhàntíng xué'),\\n\",\n",
       " \"('败血症','Bàixiězhèng'),\\n\",\n",
       " \"('扳手','Bānshǒu'),\\n\",\n",
       " \"('班迪球','Bān dí qiú'),\\n\",\n",
       " \"('班杜拉琴','Bān dù lā qín'),\\n\",\n",
       " \"('班房','Bānfáng'),\\n\",\n",
       " \"('班加西','Bān jiāxī'),\\n\",\n",
       " \"('斑脸海番鸭','Bān liǎn hǎi fān yā'),\\n\",\n",
       " \"('斑驴','Bān lǘ'),\\n\",\n",
       " \"('斑马','Bānmǎ'),\\n\",\n",
       " \"('斑马','Bānmǎ'),\\n\",\n",
       " \"('斑猫','Bānmāo'),\\n\",\n",
       " \"('斑铜矿','Bān tóng kuàng'),\\n\",\n",
       " \"('斑鹟','Bān wēng'),\\n\",\n",
       " \"('斑岩','Bān yán'),\\n\",\n",
       " \"('斑疹伤寒','Bān zhěn shānghán'),\\n\",\n",
       " \"('斑疹伤寒','Bān zhěn shānghán'),\\n\",\n",
       " \"('瘢痕瘤','Bānhén liú'),\\n\",\n",
       " \"('板材','Bǎncái'),\\n\",\n",
       " \"('板块构造论','Bǎnkuài gòuzào lùn'),\\n\",\n",
       " \"('板球','Bǎn qiú'),\\n\",\n",
       " \"('版本','Bǎnběn'),\\n\",\n",
       " \"('版本标记','Bǎnběn biāojì'),\\n\",\n",
       " \"('版本戳记','Bǎnběn chuōjì'),\\n\",\n",
       " \"('版本控制','Bǎnběn kòngzhì'),\\n\",\n",
       " \"('版本历史记录','Bǎnběn lìshǐ jìlù'),\\n\",\n",
       " \"('版本历程记录','Bǎnběn lìchéng jìlù'),\\n\",\n",
       " \"('版本限制','Bǎnběn xiànzhì'),\\n\",\n",
       " \"('版本资讯','Bǎnběn zīxùn'),\\n\",\n",
       " \"('版画','Bǎnhuà'),\\n\",\n",
       " \"('版面模子','Bǎnmiàn múzi'),\\n\",\n",
       " \"('版面母片','Bǎnmiàn mǔ piàn'),\\n\",\n",
       " \"('版面配置','Bǎnmiàn pèizhì'),\\n\",\n",
       " \"('版面配置表格','Bǎnmiàn pèizhì biǎogé'),\\n\",\n",
       " \"('版面配置预览','Bǎnmiàn pèizhì yùlǎn'),\\n\",\n",
       " \"('版面设计','Bǎnmiàn shèjì'),\\n\",\n",
       " \"('版面设定','Bǎnmiàn shè dìng'),\\n\",\n",
       " \"('版权符号','Bǎnquán fúhào'),\\n\",\n",
       " \"('版权所有','Bǎnquán suǒyǒu'),\\n\",\n",
       " \"('办法','Bànfǎ'),\\n\",\n",
       " \"('半','Bàn'),\\n\",\n",
       " \"('半导体','Bàndǎotǐ'),\\n\",\n",
       " \"('半导体器件','Bàndǎotǐ qìjiàn'),\\n\",\n",
       " \"('半导体异质结构','Bàndǎotǐ yì zhí jiégòu'),\\n\",\n",
       " \"('半岛','Bàndǎo'),\\n\",\n",
       " \"('半干旱气候','Bàn gānhàn qìhòu'),\\n\",\n",
       " \"('半规管','Bànguīguǎn'),\\n\",\n",
       " \"('半抗原','Bàn kàngyuán'),\\n\",\n",
       " \"('半人马','Bàn rénmǎ'),\\n\",\n",
       " \"('半乳糖','Bàn rǔtáng'),\\n\",\n",
       " \"('半乳糖血症','Bàn rǔtáng xiě zhèng'),\\n\",\n",
       " \"('半深海带','Bàn shēnhǎi dài'),\\n\",\n",
       " \"('半神','Bàn shén'),\\n\",\n",
       " \"('半神半人','Bàn shén bàn rén'),\\n\",\n",
       " \"('半衰期','Bànshuāiqí'),\\n\",\n",
       " \"('半透明窗口','Bàn tòumíng chuāngkǒu'),\\n\",\n",
       " \"('半透明效果','Bàn tòumíng xiàoguǒ'),\\n\",\n",
       " \"('半夜','Bànyè'),\\n\",\n",
       " \"('半圆形','Bàn yuán xíng'),\\n\",\n",
       " \"('伴奏','Bànzòu'),\\n\",\n",
       " \"('办公室','Bàngōngshì'),\\n\",\n",
       " \"('邦克楼','Bāng kè lóu'),\\n\",\n",
       " \"('邦联制','Bānglián zhì'),\\n\",\n",
       " \"('帮','Bāng'),\\n\",\n",
       " \"('帮忙','Bāngmáng'),\\n\",\n",
       " \"('帮助','Bāngzhù'),\\n\",\n",
       " \"('帮助查看器','Bāngzhù chákàn qì'),\\n\",\n",
       " \"('帮助和支持中心','Bāngzhù hé zhīchí zhōngxīn'),\\n\",\n",
       " \"('帮助集合','Bāngzhù jíhé'),\\n\",\n",
       " \"('帮助面板','Bāngzhù miànbǎn'),\\n\",\n",
       " \"('帮助','Bāngzhù'),\\n\",\n",
       " \"('绑定','Bǎng dìng'),\\n\",\n",
       " \"('绑定对象框架','Bǎng dìng duìxiàng kuàngjià'),\\n\",\n",
       " \"('绑定控件','Bǎng dìng kòngjiàn'),\\n\",\n",
       " \"('绑票','Bǎngpiào'),\\n\",\n",
       " \"('绑售','Bǎng shòu'),\\n\",\n",
       " \"('膀胱','Pángguāng'),\\n\",\n",
       " \"('膀胱炎','Pángguāng yán'),\\n\",\n",
       " \"('棒','Bàng'),\\n\",\n",
       " \"('棒棒糖','Bàng bàng táng'),\\n\",\n",
       " \"('棒球','Bàngqiú'),\\n\",\n",
       " \"('磅','Bàng'),\\n\",\n",
       " \"('包','Bāo'),\\n\",\n",
       " \"('包含式','Bāohán shì'),\\n\",\n",
       " \"('包脚布','Bāo jiǎo bù'),\\n\",\n",
       " \"('包络线','Bāo luò xiàn'),\\n\",\n",
       " \"('包皮环切术','Bāopí huán qiē shù'),\\n\",\n",
       " \"('包皮微雕环切术','Bāopí wéidiāo huán qiē shù'),\\n\",\n",
       " \"('包头','Bāotóu'),\\n\",\n",
       " \"('包围','Bāowéi'),\\n\",\n",
       " \"('包心菜','Bāoxīncài'),\\n\",\n",
       " \"('孢粉学','Bāo fěn xué'),\\n\",\n",
       " \"('孢子','Bāozǐ'),\\n\",\n",
       " \"('孢子丝菌病','Bāozǐ sī jùn bìng'),\\n\",\n",
       " \"('胞嘧啶','Bāo mìdìng'),\\n\",\n",
       " \"('胞吐作用','Bāo tǔ zuòyòng'),\\n\",\n",
       " \"('胞饮作用','Bāo yǐn zuòyòng'),\\n\",\n",
       " \"('雹','Báo'),\\n\",\n",
       " \"('雹子','Báozi'),\\n\",\n",
       " \"('薄饼','Báobǐng'),\\n\",\n",
       " \"('薄的','Báo de'),\\n\",\n",
       " \"('薄烤饼','Báo kǎo bǐng'),\\n\",\n",
       " \"('薄片','Bópiàn'),\\n\",\n",
       " \"('薄雾','Bó wù'),\\n\",\n",
       " \"('宝宝','Bǎobǎo'),\\n\",\n",
       " \"('宝贵','Bǎoguì'),\\n\",\n",
       " \"('宝相花','Bǎo xiāng huā'),\\n\",\n",
       " \"('宝座','Bǎozuò'),\\n\",\n",
       " \"('保','Bǎo'),\\n\",\n",
       " \"('保安','Bǎo'ān'),\\n\",\n",
       " \"('保持','Bǎochí'),\\n\",\n",
       " \"('保存','Bǎocún'),\\n\",\n",
       " \"('保存的申请','Bǎocún de shēnqǐng'),\\n\",\n",
       " \"('保存的网络','Bǎocún de wǎngluò'),\\n\",\n",
       " \"('保存库','Bǎocún kù'),\\n\",\n",
       " \"('保管库','Bǎoguǎn kù'),\\n\",\n",
       " \"('保护','Bǎohù'),\\n\",\n",
       " \"('保护点','Bǎohù diǎn'),\\n\",\n",
       " \"('保护国','Bǎohù guó'),\\n\",\n",
       " \"('保护模式','Bǎohù móshì'),\\n\",\n",
       " \"('保护色','Bǎohùsè'),\\n\",\n",
       " \"('保加利亚','Bǎojiālìyǎ'),\\n\",\n",
       " \"('保加利亚人','Bǎojiālìyǎ rén'),\\n\",\n",
       " \"('保留','Bǎoliú'),\\n\",\n",
       " \"('保留策略','Bǎoliú cèlüè'),\\n\",\n",
       " \"('保留原则','Bǎoliú yuánzé'),\\n\",\n",
       " \"('保留状态','Bǎoliú zhuàngtài'),\\n\",\n",
       " \"('保留字','Bǎoliú zì'),\\n\",\n",
       " \"('保姆','Bǎomǔ'),\\n\",\n",
       " \"('保守力','Bǎoshǒu lì'),\\n\",\n",
       " \"('保守主义','Bǎoshǒu zhǔyì'),\\n\",\n",
       " \"('保卫','Bǎowèi'),\\n\",\n",
       " \"('保险合同','Bǎoxiǎn hétóng'),\\n\",\n",
       " \"('保险套','Bǎoxiǎn tào'),\\n\",\n",
       " \"('保险','Bǎoxiǎn'),\\n\",\n",
       " \"('保险丝','Bǎoxiǎnsī'),\\n\",\n",
       " \"('保真','Bǎo zhēn'),\\n\",\n",
       " \"('保真度','Bǎo zhēn dù'),\\n\",\n",
       " \"('保证式转送','Bǎozhèng shì zhuǎnsòng'),\\n\",\n",
       " \"('鸨','Bǎo'),\\n\",\n",
       " \"('堡垒','Bǎolěi'),\\n\",\n",
       " \"('宝石','Bǎoshí'),\\n\",\n",
       " \"('宝珠 (基督教)','Bǎozhū (jīdūjiào)'),\\n\",\n",
       " \"('报','Bào'),\\n\",\n",
       " \"('报表','Bàobiǎo'),\\n\",\n",
       " \"('报表 Web 部件','Bàobiǎo Web bùjiàn'),\\n\",\n",
       " \"('报表工具栏','Bàobiǎo gōngjù lán'),\\n\",\n",
       " \"('报表快照','Bàobiǎo kuàizhào'),\\n\",\n",
       " \"('报表类型','Bàobiǎo lèixíng'),\\n\",\n",
       " \"('报表签名','Bàobiǎo qiānmíng'),\\n\",\n",
       " \"('报表数据库','Bàobiǎo shùjùkù'),\\n\",\n",
       " \"('报表向导','Bàobiǎo xiàngdǎo'),\\n\",\n",
       " \"('报仇','Bàochóu'),\\n\",\n",
       " \"('报道','Bàodào'),\\n\",\n",
       " \"('报复','Bàofù'),\\n\",\n",
       " \"('报告服务报表','Bàogào fúwù bàobiǎo'),\\n\",\n",
       " \"('报告中心','Bàogào zhōngxīn'),\\n\",\n",
       " \"('报价单','Bàojià dān'),\\n\",\n",
       " \"('报税','Bàoshuì'),\\n\",\n",
       " \"('报章','Bàozhāng'),\\n\",\n",
       " \"('报纸','Bàozhǐ'),\\n\",\n",
       " \"('抱子甘蓝','Bào zǐ gānlán'),\\n\",\n",
       " \"('豹','Bào'),\\n\",\n",
       " \"('豹海豹','Bào hǎibào'),\\n\",\n",
       " \"('豹纹鲨','Bào wén shā'),\\n\",\n",
       " \"('豹子','Bàozi'),\\n\",\n",
       " \"('报表精灵','Bàobiǎo jīnglíng'),\\n\",\n",
       " \"('报表快照集','Bàobiǎo kuàizhào jí'),\\n\",\n",
       " \"('报表网页组件','Bàobiǎo wǎngyè zǔjiàn'),\\n\",\n",
       " \"('报表资料库','Bàobiǎo zīliào kù'),\\n\",\n",
       " \"('报告','Bàogào'),\\n\",\n",
       " \"('报告工具列','Bàogào gōngjù liè'),\\n\",\n",
       " \"('报告签章','Bàogào qiān zhāng'),\\n\",\n",
       " \"('报价','Bàojià'),\\n\",\n",
       " \"('铇刀','Bào dāo'),\\n\",\n",
       " \"('铇子','Bào zi'),\\n\",\n",
       " \"('暴发户','Bàofā hù'),\\n\",\n",
       " \"('暴风','Bàofēng'),\\n\",\n",
       " \"('暴风雪','Bàofēngxuě'),\\n\",\n",
       " \"('鲍鱼','Bàoyú'),\\n\",\n",
       " \"('爆谷','Bào gǔ'),\\n\",\n",
       " \"('爆轰','Bào hōng'),\\n\",\n",
       " \"('爆米花','Bào mǐhuā'),\\n\",\n",
       " \"('爆炸','Bàozhà'),\\n\",\n",
       " \"('爆炸式轮廓线','Bàozhà shì lúnkuò xiàn'),\\n\",\n",
       " \"('爆炸式轮廓','Bàozhà shì lúnkuò'),\\n\",\n",
       " \"('爆炸物','Bàozhà wù'),\\n\",\n",
       " \"('杯','Bēi'),\\n\",\n",
       " \"('杯子','Bēizi'),\\n\",\n",
       " \"('悲哀','Bēi'āi'),\\n\",\n",
       " \"('悲观主义','Bēiguān zhǔyì'),\\n\",\n",
       " \"('悲剧','Bēijù'),\\n\",\n",
       " \"('悲伤','Bēishāng'),\\n\",\n",
       " \"('悲喜剧','Bēixǐjù'),\\n\",\n",
       " \"('北','Běi'),\\n\",\n",
       " \"('北冰洋','Běibīngyáng'),\\n\",\n",
       " \"('北朝鲜','Běi cháoxiǎn'),\\n\",\n",
       " \"('北大西洋公约组织','Běi dàxīyáng gōngyuē zǔzhī'),\\n\",\n",
       " \"('北方','Běifāng'),\\n\",\n",
       " \"('北方针叶林','Běi fāngzhēn yè lín'),\\n\",\n",
       " \"('北非','Běifēi'),\\n\",\n",
       " \"('北哈萨克斯坦州','Běi hāsàkè sītǎn zhōu'),\\n\",\n",
       " \"('北海','Běihǎi'),\\n\",\n",
       " \"('北海道','Běihǎidào'),\\n\",\n",
       " \"('北韩','Běihán'),\\n\",\n",
       " \"('北极','Běijí'),\\n\",\n",
       " \"('北极地区','Běijí dìqū'),\\n\",\n",
       " \"('北极点','Běijí diǎn'),\\n\",\n",
       " \"('北极熊','Běijíxióng'),\\n\",\n",
       " \"('北京','Běijīng'),\\n\",\n",
       " \"('北京市','Běijīng shì'),\\n\",\n",
       " \"('北莱茵-威斯特法伦州','Běi láiyīn-wēi sī tè fǎ lún zhōu'),\\n\",\n",
       " \"('北美洲','Běi měizhōu'),\\n\",\n",
       " \"('北欧','Běi'ōu'),\\n\",\n",
       " \"('北塞浦路斯','Běi sāipǔlùsī'),\\n\",\n",
       " \"('北赛普勒斯土耳其共和国','Běi sài pǔ lè sī tǔ'ěrqí gònghéguó'),\\n\",\n",
       " \"('北水苦荬','Běi shuǐ kǔ mǎi'),\\n\",\n",
       " \"('北野武','Běiyě wǔ'),\\n\",\n",
       " \"('贝都因人','Bèi dōu yīn rén'),\\n\",\n",
       " \"('贝尔格莱德','Bèi'ěrgéláidé'),\\n\",\n",
       " \"('贝加尔湖','Bèijiā'ěr hú'),\\n\",\n",
       " \"('贝壳','Bèiké'),\\n\",\n",
       " \"('贝可勒尔','Bèi kě lēi ěr'),\\n\",\n",
       " \"('贝鲁特','Bèilǔtè'),\\n\",\n",
       " \"('贝宁','Bèi níng'),\\n\",\n",
       " \"('贝伊','Bèi yī'),\\n\",\n",
       " \"('贝里斯','Bèi lǐsī'),\\n\",\n",
       " \"('贝南','Bèi nán'),\\n\",\n",
       " \"('贝伊','Bèi yī'),\\n\",\n",
       " \"('备份','Bèifèn'),\\n\",\n",
       " \"('备份副本','Bèifèn fùběn'),\\n\",\n",
       " \"('备份文件','Bèifèn wénjiàn'),\\n\",\n",
       " \"('备忘录','Bèiwànglù'),\\n\",\n",
       " \"('备用访问映射','Bèiyòng fǎngwèn yìngshè'),\\n\",\n",
       " \"('背','Bèi'),\\n\",\n",
       " \"('背包','Bèibāo'),\\n\",\n",
       " \"('背部','Bèibù'),\\n\",\n",
       " \"('背景','Bèijǐng'),\\n\",\n",
       " \"('背景色','Bèijǐng sè'),\\n\",\n",
       " \"('背景色彩','Bèijǐng sècǎi'),\\n\",\n",
       " \"('背景消除','Bèijǐng xiāochú'),\\n\",\n",
       " \"('背囊','Bèi náng'),\\n\",\n",
       " \"('背斜','Bèi xié'),\\n\",\n",
       " \"('背心','Bèixīn'),\\n\",\n",
       " \"('钡','Bèi'),\\n\",\n",
       " \"('倍','Bèi'),\\n\",\n",
       " \"('倍长石','Bèi cháng shí'),\\n\",\n",
       " \"('悖论','Bèi lùn'),\\n\",\n",
       " \"('被忽略的客户','Bèi hūlüè de kèhù'),\\n\",\n",
       " \"('被忽略的天数','Bèi hūlüè de tiānshù'),\\n\",\n",
       " \"('被忽略的业务联系人','Bèi hūlüè de yèwù liánxì rén'),\\n\",\n",
       " \"('被减数','Bèi jiǎn shù'),\\n\",\n",
       " \"('被禁止','Bèi jìnzhǐ'),\\n\",\n",
       " \"('被疏忽的客户','Bèi shūhū de kèhù'),\\n\",\n",
       " \"('被疏忽的商业连络人','Bèi shūhū de shāngyè lián luò rén'),\\n\",\n",
       " \"('被子植物','Bèi zǐ zhíwù'),\\n\",\n",
       " \"('被阻止的联系人','Bèi zǔzhǐ de liánxì rén'),\\n\",\n",
       " \"('备份档案','Bèifèn dǎng'àn'),\\n\",\n",
       " \"('备忘','Bèi wàng'),\\n\",\n",
       " \"('备忘录','Bèiwànglù'),\\n\",\n",
       " \"('备用存取对应','Bèiyòng cún qǔ duìyìng'),\\n\",\n",
       " \"('备注','Bèizhù'),\\n\",\n",
       " \"('钡','Bèi'),\\n\",\n",
       " \"('奔跑','Bēnpǎo'),\\n\",\n",
       " \"('奔逐','Bēn zhú'),\\n\",\n",
       " \"('本地','Běndì'),\\n\",\n",
       " \"('本地包','Běndì bāo'),\\n\",\n",
       " \"('本地的','Běndì de'),\\n\",\n",
       " \"('本地对象','Běndì duìxiàng'),\\n\",\n",
       " \"('本地副本','Běndì fùběn'),\\n\",\n",
       " \"('本地连续复制','Běndì liánxù fùzhì'),\\n\",\n",
       " \"('本地数据库','Běndì shùjùkù'),\\n\",\n",
       " \"('本地消息传递','Běndì xiāoxī chuándì'),\\n\",\n",
       " \"('本地组','Běndì zǔ'),\\n\",\n",
       " \"('本机的','Běn jī de'),\\n\",\n",
       " \"('本机','Běn jī'),\\n\",\n",
       " \"('本机传讯','Běn jī chuánxùn'),\\n\",\n",
       " \"('本机复本','Běn jī fù běn'),\\n\",\n",
       " \"('本机连续复写','Běn jī liánxù fùxiě'),\\n\",\n",
       " \"('本机群组','Běn jī qún zǔ'),\\n\",\n",
       " \"('本机物件','Běn jī wùjiàn'),\\n\",\n",
       " \"('本机资料库','Běn jī zīliào kù'),\\n\",\n",
       " \"('本票','Běn piào'),\\n\",\n",
       " \"('本期','Běn qí'),\\n\",\n",
       " \"('本钱','Běnqián'),\\n\",\n",
       " \"('本体论','Běntǐ lùn'),\\n\",\n",
       " \"('本位栏框','Běnwèi lán kuāng'),\\n\",\n",
       " \"('本位音','Běnwèi yīn'),\\n\",\n",
       " \"('本文','Běnwén'),\\n\",\n",
       " \"('本影','Běn yǐng'),\\n\",\n",
       " \"('本征半导体','Běn zhēng bàndǎotǐ'),\\n\",\n",
       " \"('本州','Běnzhōu'),\\n\",\n",
       " \"('本子','Běnzi'),\\n\",\n",
       " \"('本族语','Běn zú yǔ'),\\n\",\n",
       " \"('苯','Běn'),\\n\",\n",
       " \"('苯胺','Běn'ān'),\\n\",\n",
       " \"('苯并三唑','Běn bìng sān zuò'),\\n\",\n",
       " \"('苯酚','Běnfēn'),\\n\",\n",
       " \"('苯佐卡因','Běn zuǒ kǎ yīn'),\\n\",\n",
       " \"('畚箕','Běnjī'),\\n\",\n",
       " \"('畚箕 (清洁用品)','Běnjī (qīngjié yòngpǐn)'),\\n\",\n",
       " \"('笨','Bèn'),\\n\",\n",
       " \"('笨蛋','Bèndàn'),\\n\",\n",
       " \"('绷床','Bēng chuáng'),\\n\",\n",
       " \"('泵','Bèng'),\\n\",\n",
       " \"('蹦床','Bèngchuáng'),\\n\",\n",
       " \"('屄','Bī'),\\n\",\n",
       " \"('逼','Bī'),\\n\",\n",
       " \"('逼真度','Bīzhēn dù'),\\n\",\n",
       " \"('鼻','Bí'),\\n\",\n",
       " \"('鼻窦炎','Bídòu yán'),\\n\",\n",
       " \"('鼻骨','Bígǔ'),\\n\",\n",
       " \"('鼻孔','Bíkǒng'),\\n\",\n",
       " \"('鼻涕','Bítì'),\\n\",\n",
       " \"('鼻息肉','Bí xī ròu'),\\n\",\n",
       " \"('鼻子','Bízi'),\\n\",\n",
       " \"('鼻子眼','Bí zǐ yǎn'),\\n\",\n",
       " \"('匕','Bǐ'),\\n\",\n",
       " \"('匕首','Bǐshǒu'),\\n\",\n",
       " \"('比表面积','Bǐ biǎomiànjī'),\\n\",\n",
       " \"('比荷卢三国关税同盟','Bǐ hé lú sānguó guānshuì tóngméng'),\\n\",\n",
       " \"('比基尼','Bǐjīní'),\\n\",\n",
       " \"('比较','Bǐjiào'),\\n\",\n",
       " \"('比较器','Bǐjiào qì'),\\n\",\n",
       " \"('比较优势','Bǐjiào yōushì'),\\n\",\n",
       " \"('比较政治学','Bǐjiào zhèngzhì xué'),\\n\",\n",
       " \"('比较法','Bǐjiào fǎ'),\\n\",\n",
       " \"('比勒费尔德','Bǐ lēi fèi ěr dé'),\\n\",\n",
       " \"('比利纳 (诗)','Bǐ lì nà (shī)'),\\n\",\n",
       " \"('比利牛斯山','Bǐ lì niú sī shān'),\\n\",\n",
       " \"('比利时','Bǐlìshí'),\\n\",\n",
       " \"('比例','Bǐlì'),\\n\",\n",
       " \"('比例尺','Bǐlìchǐ'),\\n\",\n",
       " \"('比如','Bǐrú'),\\n\",\n",
       " \"('比萨','Bǐsà'),\\n\",\n",
       " \"('比萨饼','Bǐsàbǐng'),\\n\",\n",
       " \"('比萨斜塔','Bǐsà xié tǎ'),\\n\",\n",
       " \"('比萨饼','Bǐsàbǐng'),\\n\",\n",
       " \"('比什凯克','Bǐ shén kǎi kè'),\\n\",\n",
       " \"('比特','Bǐtè'),\\n\",\n",
       " \"('比特规范','Bǐtè guīfàn'),\\n\",\n",
       " \"('比特率','Bǐtè lǜ'),\\n\",\n",
       " \"('比尤特(美国蒙大拿西南城市)','Bǐ yóu tè (měiguó méng dà ná xīnán chéngshì)'),\\n\",\n",
       " \"('比喩','Bǐyù'),\\n\",\n",
       " \"('比喻 (文体)','Bǐyù (wéntǐ)'),\\n\",\n",
       " \"('比重','Bǐzhòng'),\\n\",\n",
       " \"('比重计','Bǐzhòng jì'),\\n\",\n",
       " \"('比重量','Bǐ zhòngliàng'),\\n\",\n",
       " \"('吡哆醇','Bǐ duō chún'),\\n\",\n",
       " \"('彼得罗巴甫尔','Bǐdé luó bā fǔ ěr'),\\n\",\n",
       " \"('笔','Bǐ'),\\n\",\n",
       " \"('笔记本','Bǐjìběn'),\\n\",\n",
       " \"('笔势','Bǐshì'),\\n\",\n",
       " \"('笔势引擎','Bǐshì yǐnqíng'),\\n\",\n",
       " \"('笔者','Bǐzhě'),\\n\",\n",
       " \"('笔直的','Bǐzhí de'),\\n\",\n",
       " \"('笔迹','Bǐjī'),\\n\",\n",
       " \"('笔记标籤','Bǐjì biāo qiān'),\\n\",\n",
       " \"('笔记型电脑','Bǐjì xíng diànnǎo'),\\n\",\n",
       " \"('笔刨','Bǐ páo'),\\n\",\n",
       " \"('币','Bì'),\\n\",\n",
       " \"('必需组件','Bìxū zǔjiàn'),\\n\",\n",
       " \"('必要性','Bìyào xìng'),\\n\",\n",
       " \"('必要元件','Bìyào yuánjiàn'),\\n\",\n",
       " \"('毕达哥拉斯','Bì dá gē lā sī'),\\n\",\n",
       " \"('闭','Bì'),\\n\",\n",
       " \"('闭合 V 形流程','Bìhé V xíng liúchéng'),\\n\",\n",
       " \"('闭锁综合征','Bìsuǒ zònghé zhēng'),\\n\",\n",
       " \"('庇护权','Bìhù quán'),\\n\",\n",
       " \"('庇护所','Bìhù suǒ'),\\n\",\n",
       " \"('铋','Bì'),\\n\",\n",
       " \"('壁橱','Bìchú'),\\n\",\n",
       " \"('壁虎','Bìhǔ'),\\n\",\n",
       " \"('壁炉','Bìlú'),\\n\",\n",
       " \"('壁球','Bìqiú'),\\n\",\n",
       " \"('壁毯','Bìtǎn'),\\n\",\n",
       " \"('壁纸','Bìzhǐ'),\\n\",\n",
       " \"('壁柱','Bì zhù'),\\n\",\n",
       " \"('篦','Bì'),\\n\",\n",
       " \"('避税港','Bìshuì gǎng'),\\n\",\n",
       " \"('避孕套','Bìyùn tào'),\\n\",\n",
       " \"('避震','Bì zhèn'),\\n\",\n",
       " \"('臂膀','Bìbǎng'),\\n\",\n",
       " \"('边际百分比','Biānjì bǎifēnbǐ'),\\n\",\n",
       " \"('边际主义','Biānjì zhǔyì'),\\n\",\n",
       " \"('边界','Biānjiè'),\\n\",\n",
       " \"('边界分隔符','Biānjiè fēngé fú'),\\n\",\n",
       " \"('边境','Biānjìng'),\\n\",\n",
       " \"('边距','Biān jù'),\\n\",\n",
       " \"('边距参考线','Biān jù cānkǎo xiàn'),\\n\",\n",
       " \"('边框','Biānkuāng'),\\n\",\n",
       " \"('边音','Biān yīn'),\\n\",\n",
       " \"('边缘传输服务器角色','Biānyuán chuánshū fúwùqì juésè'),\\n\",\n",
       " \"('边缘订阅','Biānyuán dìngyuè'),\\n\",\n",
       " \"('边缘订阅文件','Biānyuán dìngyuè wénjiàn'),\\n\",\n",
       " \"('边缘服务器','Biānyuán fúwùqì'),\\n\",\n",
       " \"('边缘系统','Biānyuán xìtǒng'),\\n\",\n",
       " \"('编','Biān'),\\n\",\n",
       " \"('编程语言','Biānchéng yǔyán'),\\n\",\n",
       " \"('编号列表','Biānhào lièbiǎo'),\\n\",\n",
       " \"('编辑','Biānjí'),\\n\",\n",
       " \"('编辑栏','Biānjí lán'),\\n\",\n",
       " \"('编辑模式','Biānjí móshì'),\\n\",\n",
       " \"('编辑器','Biānjí qì'),\\n\",\n",
       " \"('编辑视图','Biānjí shìtú'),\\n\",\n",
       " \"('编辑字段值列表','Biānjí zìduàn zhí lièbiǎo'),\\n\",\n",
       " \"('编解码器','Biān jiěmǎ qì'),\\n\",\n",
       " \"('编码','Biānmǎ'),\\n\",\n",
       " \"('编年体','Biānniántǐ'),\\n\",\n",
       " \"('编译','Biānyì'),\\n\",\n",
       " \"('编织','Biānzhī'),\\n\",\n",
       " \"('编程语言','Biānchéng yǔyán'),\\n\",\n",
       " \"('编号清单','Biānhào qīngdān'),\\n\",\n",
       " \"('编辑','Biānjí'),\\n\",\n",
       " \"('编辑检视','Biānjí jiǎnshì'),\\n\",\n",
       " \"('编辑栏位值清单','Biānjí lán wèi zhí qīngdān'),\\n\",\n",
       " \"('编剧','Biānjù'),\\n\",\n",
       " \"('编目帐户','Biānmù zhànghù'),\\n\",\n",
       " \"('编舞','Biān wǔ'),\\n\",\n",
       " \"('编译的二进位档案','Biānyì de èr jìnwèi dǎng'àn'),\\n\",\n",
       " \"('编译器','Biānyì qì'),\\n\",\n",
       " \"('编织','Biānzhī'),\\n\",\n",
       " \"('蝙蝠','Biānfú'),\\n\",\n",
       " \"('边防人员','Biānfáng rényuán'),\\n\",\n",
       " \"('边界','Biānjiè'),\\n\",\n",
       " \"('边界辅助线','Biānjiè fǔzhù xiàn'),\\n\",\n",
       " \"('鞭','Biān'),\\n\",\n",
       " \"('鞭子','Biānzi'),\\n\",\n",
       " \"('扁平足','Biǎnpíngzú'),\\n\",\n",
       " \"('扁鲹','Biǎn shēn'),\\n\",\n",
       " \"('扁桃体炎','Biǎntáotǐ yán'),\\n\",\n",
       " \"('扁桃腺','Biǎntáo xiàn'),\\n\",\n",
       " \"('贬义','Biǎnyì'),\\n\",\n",
       " \"('卞氏图表','Biàn shì túbiǎo'),\\n\",\n",
       " \"('变暗的','Biàn àn de'),\\n\",\n",
       " \"('变得更好','Biàn dé gèng hǎo'),\\n\",\n",
       " \"('变分法','Biàn fēn fǎ'),\\n\",\n",
       " \"('变分原理','Biàn fēn yuánlǐ'),\\n\",\n",
       " \"('变格','Biàn gé'),\\n\",\n",
       " \"('变更传播','Biàngēng chuánbò'),\\n\",\n",
       " \"('变更单位','Biàngēng dānwèi'),\\n\",\n",
       " \"('变流技术','Biàn liú jìshù'),\\n\",\n",
       " \"('变速器','Biànsùqì'),\\n\",\n",
       " \"('变态','Biàntài'),\\n\",\n",
       " \"('变体标签','Biàn tǐ biāoqiān'),\\n\",\n",
       " \"('变压器','Biànyāqì'),\\n\",\n",
       " \"('变质岩','Biànzhí yán'),\\n\",\n",
       " \"('便捷键','Biànjié jiàn'),\\n\",\n",
       " \"('便秘','Biànmì'),\\n\",\n",
       " \"('便所','Biànsuǒ'),\\n\",\n",
       " \"('便携计算机','Biànxié jìsuànjī'),\\n\",\n",
       " \"('便携媒体播放器','Biànxié méitǐ bòfàng qì'),\\n\",\n",
       " \"('便携式计算机','Biànxiéshì jìsuànjī'),\\n\",\n",
       " \"('便宜','Piányí'),\\n\",\n",
       " \"('遍地','Biàndì'),\\n\",\n",
       " \"('辨别名称','Biànbié míngchēng'),\\n\",\n",
       " \"('辩论','Biànlùn'),\\n\",\n",
       " \"('辩证法','Biànzhèngfǎ'),\\n\",\n",
       " \"('辩证唯物主义','Biànzhèng wéiwù zhǔyì'),\\n\",\n",
       " \"('辫子','Biànzi'),\\n\",\n",
       " \"('变暗','Biàn àn'),\\n\",\n",
       " \"('变更','Biàngēng'),\\n\",\n",
       " \"('变更字型...','Biàngēng zì xíng...'),\\n\",\n",
       " \"('变化标籤','Biànhuà biāo qiān'),\\n\",\n",
       " \"('变容二极体','Biàn róng èr jí tǐ'),\\n\",\n",
       " \"('变色龙','Biànsèlóng'),\\n\",\n",
       " \"('变数','Biànshù'),\\n\",\n",
       " \"('变数储存格','Biànshù chúcún gé'),\\n\",\n",
       " \"('变态','Biàntài'),\\n\",\n",
       " \"('变温动物','Biànwēn dòngwù'),\\n\",\n",
       " \"('变星','Biànxīng'),\\n\",\n",
       " \"('变形虫','Biànxíng chóng'),\\n\",\n",
       " \"('变异数','Biànyì shù'),\\n\",\n",
       " \"('变音符号','Biàn yīn fúhào'),\\n\",\n",
       " \"('变质岩','Biànzhí yán'),\\n\",\n",
       " \"('变质作用','Biànzhí zuòyòng'),\\n\",\n",
       " \"('标尺','Biāochǐ'),\\n\",\n",
       " \"('标尺参考线','Biāochǐ cānkǎo xiàn'),\\n\",\n",
       " \"('标尺原点','Biāochǐ yuándiǎn'),\\n\",\n",
       " \"('标点符号','Biāodiǎn fúhào'),\\n\",\n",
       " \"('标记','Biāojì'),\\n\",\n",
       " \"('标记笔记','Biāojì bǐjì'),\\n\",\n",
       " \"('标记的层次结构','Biāojì de céngcì jiégòu'),\\n\",\n",
       " \"('标记检查器树状图','Biāojì jiǎnchá qì shù zhuàng tú'),\\n\",\n",
       " \"('标记树','Biāojì shù'),\\n\",\n",
       " \"('标记为上线通知','Biāojì wéi shàngxiàn tōngzhī'),\\n\",\n",
       " \"('标记为已读','Biāojì wéi yǐ dú'),\\n\",\n",
       " \"('标量','Biāoliàng'),\\n\",\n",
       " \"('标量场','Biāoliàng chǎng'),\\n\",\n",
       " \"('标签','Biāoqiān'),\\n\",\n",
       " \"('标签云','Biāoqiān yún'),\\n\",\n",
       " \"('标识','Biāozhì'),\\n\",\n",
       " \"('标识符','Biāozhì fú'),\\n\",\n",
       " \"('标题节','Biāotí jié'),\\n\",\n",
       " \"('标题栏','Biāotí lán'),\\n\",\n",
       " \"('标题区域','Biāotí qūyù'),\\n\",\n",
       " \"('标题行','Biāotí xíng'),\\n\",\n",
       " \"('标头','Biāo tóu'),\\n\",\n",
       " \"('标志','Biāozhì'),\\n\",\n",
       " \"('标准','Biāozhǔn'),\\n\",\n",
       " \"('标准大气压','Biāozhǔn dàqìyā'),\\n\",\n",
       " \"('标准工具栏','Biāozhǔn gōngjù lán'),\\n\",\n",
       " \"('标准化','Biāozhǔnhuà'),\\n\",\n",
       " \"('标准键盘','Biāozhǔn jiànpán'),\\n\",\n",
       " \"('标准模块','Biāozhǔn mókuài'),\\n\",\n",
       " \"('标准摩尔生成焓','Biāozhǔn mó'ěr shēngchéng hán'),\\n\",\n",
       " \"('标准偏差','Biāozhǔn piānchā'),\\n\",\n",
       " \"('标准行业分类编码','Biāozhǔn hángyè fēnlèi biānmǎ'),\\n\",\n",
       " \"('标准帐户','Biāozhǔn zhànghù'),\\n\",\n",
       " \"('标准状况','Biāozhǔn zhuàngkuàng'),\\n\",\n",
       " \"('标准字体','Biāozhǔn zìtǐ'),\\n\",\n",
       " \"('标籤','Biāo qiān'),\\n\",\n",
       " \"('标籤阶层图','Biāo qiān jiēcéng tú'),\\n\",\n",
       " \"('标籤树状结构检查','Biāo qiān shù zhuàng jiégòu jiǎnchá'),\\n\",\n",
       " \"('标籤侦测器树状图','Biāo qiān zhēn cè qì shù zhuàng tú'),\\n\",\n",
       " \"('标示读取','Biāoshì dòu qǔ'),\\n\",\n",
       " \"('标示为完稿','Biāoshì wèi wángǎo'),\\n\",\n",
       " \"('标识符','Biāozhì fú'),\\n\",\n",
       " \"('标题','Biāotí'),\\n\",\n",
       " \"('标题矩阵图','Biāotí jǔzhèn tú'),\\n\",\n",
       " \"('标题列','Biāotí liè'),\\n\",\n",
       " \"('标题区','Biāotí qū'),\\n\",\n",
       " \"('标题区段','Biāotí qū duàn'),\\n\",\n",
       " \"('标志','Biāozhì'),\\n\",\n",
       " \"('标准差','Biāozhǔn chā'),\\n\",\n",
       " \"('标准产业分类码','Biāozhǔn chǎnyè fēnlèi mǎ'),\\n\",\n",
       " \"('标准工具列','Biāozhǔn gōngjù liè'),\\n\",\n",
       " \"('标准模组','Biāozhǔn mó zǔ'),\\n\",\n",
       " \"('标准字型','Biāozhǔn zì xíng'),\\n\",\n",
       " \"('表','Biǎo'),\\n\",\n",
       " \"('表层次结构','Biǎo céngcì jiégòu'),\\n\",\n",
       " \"('表达式','Biǎodá shì'),\\n\",\n",
       " \"('表达式框','Biǎodá shì kuāng'),\\n\",\n",
       " \"('表达式生成器','Biǎodá shì shēngchéng qì'),\\n\",\n",
       " \"('表单','Biǎodān'),\\n\",\n",
       " \"('表单编辑器','Biǎodān biānjí qì'),\\n\",\n",
       " \"('表单定义文件','Biǎodān dìngyì wénjiàn'),\\n\",\n",
       " \"('表单库','Biǎodān kù'),\\n\",\n",
       " \"('表单名称','Biǎodān míngchēng'),\\n\",\n",
       " \"('表单模板','Biǎodān múbǎn'),\\n\",\n",
       " \"('表单模板库','Biǎodān múbǎn kù'),\\n\",\n",
       " \"('表单模板文件','Biǎodān múbǎn wénjiàn'),\\n\",\n",
       " \"('表单文件','Biǎodān wénjiàn'),\\n\",\n",
       " \"('表单域','Biǎodān yù'),\\n\",\n",
       " \"('表单档案','Biǎodān dǎng'àn'),\\n\",\n",
       " \"('表单定义档','Biǎodān dìngyì dàng'),\\n\",\n",
       " \"('表单范本','Biǎodān fànběn'),\\n\",\n",
       " ...]"
      ]
     },
     "execution_count": 156,
     "metadata": {},
     "output_type": "execute_result"
    }
   ],
   "source": [
    "with open('tmp.txt') as f:\n",
    "    lines=f.readlines()\n",
    "lines"
   ]
  },
  {
   "cell_type": "code",
   "execution_count": 157,
   "metadata": {},
   "outputs": [],
   "source": [
    "import os\n",
    "os.remove('tmp.txt')"
   ]
  },
  {
   "cell_type": "code",
   "execution_count": 163,
   "metadata": {},
   "outputs": [
    {
     "ename": "UnicodeEncodeError",
     "evalue": "'latin-1' codec can't encode characters in position 2-5: ordinal not in range(256)",
     "output_type": "error",
     "traceback": [
      "\u001b[1;31m---------------------------------------------------------------------------\u001b[0m",
      "\u001b[1;31mUnicodeEncodeError\u001b[0m                        Traceback (most recent call last)",
      "\u001b[1;32m<ipython-input-163-6fd051eb9091>\u001b[0m in \u001b[0;36m<module>\u001b[1;34m()\u001b[0m\n\u001b[0;32m      2\u001b[0m \u001b[1;32mwith\u001b[0m \u001b[0mopen\u001b[0m\u001b[1;33m(\u001b[0m\u001b[0mpath\u001b[0m\u001b[1;33m)\u001b[0m \u001b[1;32mas\u001b[0m \u001b[0msource\u001b[0m\u001b[1;33m:\u001b[0m\u001b[1;33m\u001b[0m\u001b[0m\n\u001b[0;32m      3\u001b[0m     \u001b[1;32mwith\u001b[0m \u001b[0mopen\u001b[0m\u001b[1;33m(\u001b[0m\u001b[0msink_path\u001b[0m\u001b[1;33m,\u001b[0m\u001b[1;34m'xt'\u001b[0m\u001b[1;33m,\u001b[0m\u001b[0mencoding\u001b[0m\u001b[1;33m=\u001b[0m\u001b[1;34m'iso-8859-1'\u001b[0m\u001b[1;33m)\u001b[0m \u001b[1;32mas\u001b[0m \u001b[0msink\u001b[0m\u001b[1;33m:\u001b[0m\u001b[1;33m\u001b[0m\u001b[0m\n\u001b[1;32m----> 4\u001b[1;33m         \u001b[0msink\u001b[0m\u001b[1;33m.\u001b[0m\u001b[0mwrite\u001b[0m\u001b[1;33m(\u001b[0m\u001b[0msource\u001b[0m\u001b[1;33m.\u001b[0m\u001b[0mread\u001b[0m\u001b[1;33m(\u001b[0m\u001b[1;33m)\u001b[0m\u001b[1;33m)\u001b[0m\u001b[1;33m\u001b[0m\u001b[0m\n\u001b[0m",
      "\u001b[1;31mUnicodeEncodeError\u001b[0m: 'latin-1' codec can't encode characters in position 2-5: ordinal not in range(256)"
     ]
    }
   ],
   "source": [
    "sink_path='sink4.txt'\n",
    "with open(path) as source:\n",
    "    with open(sink_path,'xt',encoding='iso-8859-1') as sink:\n",
    "        sink.write(source.read())"
   ]
  },
  {
   "cell_type": "code",
   "execution_count": 164,
   "metadata": {},
   "outputs": [],
   "source": [
    "os.remove(sink_path)"
   ]
  },
  {
   "cell_type": "code",
   "execution_count": 165,
   "metadata": {},
   "outputs": [
    {
     "ename": "NameError",
     "evalue": "name 'sink_path1' is not defined",
     "output_type": "error",
     "traceback": [
      "\u001b[1;31m---------------------------------------------------------------------------\u001b[0m",
      "\u001b[1;31mNameError\u001b[0m                                 Traceback (most recent call last)",
      "\u001b[1;32m<ipython-input-165-965153b75310>\u001b[0m in \u001b[0;36m<module>\u001b[1;34m()\u001b[0m\n\u001b[1;32m----> 1\u001b[1;33m \u001b[0mos\u001b[0m\u001b[1;33m.\u001b[0m\u001b[0mremove\u001b[0m\u001b[1;33m(\u001b[0m\u001b[0msink_path1\u001b[0m\u001b[1;33m)\u001b[0m\u001b[1;33m\u001b[0m\u001b[0m\n\u001b[0m",
      "\u001b[1;31mNameError\u001b[0m: name 'sink_path1' is not defined"
     ]
    }
   ],
   "source": [
    "os.remove(sink_path1)"
   ]
  },
  {
   "cell_type": "code",
   "execution_count": 167,
   "metadata": {
    "scrolled": false
   },
   "outputs": [
    {
     "ename": "NameError",
     "evalue": "name 'sink2' is not defined",
     "output_type": "error",
     "traceback": [
      "\u001b[1;31m---------------------------------------------------------------------------\u001b[0m",
      "\u001b[1;31mNameError\u001b[0m                                 Traceback (most recent call last)",
      "\u001b[1;32m<ipython-input-167-3977d8309b6a>\u001b[0m in \u001b[0;36m<module>\u001b[1;34m()\u001b[0m\n\u001b[1;32m----> 1\u001b[1;33m \u001b[0mos\u001b[0m\u001b[1;33m.\u001b[0m\u001b[0mremove\u001b[0m\u001b[1;33m(\u001b[0m\u001b[0msink2\u001b[0m\u001b[1;33m)\u001b[0m\u001b[1;33m\u001b[0m\u001b[0m\n\u001b[0m",
      "\u001b[1;31mNameError\u001b[0m: name 'sink2' is not defined"
     ]
    }
   ],
   "source": [
    "os.remove(sink2)"
   ]
  },
  {
   "cell_type": "code",
   "execution_count": null,
   "metadata": {},
   "outputs": [],
   "source": []
  }
 ],
 "metadata": {
  "kernelspec": {
   "display_name": "Python 3",
   "language": "python",
   "name": "python3"
  },
  "language_info": {
   "codemirror_mode": {
    "name": "ipython",
    "version": 3
   },
   "file_extension": ".py",
   "mimetype": "text/x-python",
   "name": "python",
   "nbconvert_exporter": "python",
   "pygments_lexer": "ipython3",
   "version": "3.6.4"
  }
 },
 "nbformat": 4,
 "nbformat_minor": 2
}
